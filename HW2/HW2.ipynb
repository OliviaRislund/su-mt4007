{
 "cells": [
  {
   "cell_type": "markdown",
   "id": "8a6bd0cf-4ad8-4ed2-b82e-17cfeac7d8a1",
   "metadata": {},
   "source": [
    "# Homework 2"
   ]
  },
  {
   "cell_type": "markdown",
   "id": "9db6e63b-a5e8-4dd4-825c-12fd6c1aff17",
   "metadata": {},
   "source": [
    "The following code shows the packages used."
   ]
  },
  {
   "cell_type": "code",
   "execution_count": 160,
   "id": "7fdd4ec4-b56e-46f8-b625-4b8afa568755",
   "metadata": {},
   "outputs": [],
   "source": [
    "library(readr)\n",
    "library(dplyr)\n",
    "library(ggplot2)"
   ]
  },
  {
   "cell_type": "markdown",
   "id": "1c15b2e9-28a0-458b-9744-015681a175f9",
   "metadata": {},
   "source": [
    "Since the file Booli_sold.csv contains data on sales of apartments in Ekhagen, we want to download the file and read it into our code. We do this with the following code, where we read the dataset and print it out with the specified columns. The specified columns are 'livingArea', 'soldPrice', 'floor', and 'location.address.streetAddress', as they are important for further questions."
   ]
  },
  {
   "cell_type": "code",
   "execution_count": 161,
   "id": "a481d6dd-6011-4a4d-b02c-fd860ccf8440",
   "metadata": {},
   "outputs": [
    {
     "name": "stdout",
     "output_type": "stream",
     "text": [
      "\u001b[90m# A tibble: 158 × 4\u001b[39m\n",
      "   livingArea soldPrice floor location.address.streetAddress\n",
      "        \u001b[3m\u001b[90m<dbl>\u001b[39m\u001b[23m     \u001b[3m\u001b[90m<dbl>\u001b[39m\u001b[23m \u001b[3m\u001b[90m<dbl>\u001b[39m\u001b[23m \u001b[3m\u001b[90m<chr>\u001b[39m\u001b[23m                         \n",
      "\u001b[90m 1\u001b[39m       73     3\u001b[4m8\u001b[24m\u001b[4m2\u001b[24m\u001b[4m0\u001b[24m000    \u001b[31mNA\u001b[39m Åminnevägen 19                \n",
      "\u001b[90m 2\u001b[39m       36     2\u001b[4m3\u001b[24m\u001b[4m5\u001b[24m\u001b[4m5\u001b[24m000     1 Docentbacken 9                \n",
      "\u001b[90m 3\u001b[39m       81     6\u001b[4m1\u001b[24m\u001b[4m1\u001b[24m\u001b[4m0\u001b[24m000     3 Ekhagsvägen 5                 \n",
      "\u001b[90m 4\u001b[39m      107     8\u001b[4m0\u001b[24m\u001b[4m5\u001b[24m\u001b[4m0\u001b[24m000     3 Torphagsvägen 4               \n",
      "\u001b[90m 5\u001b[39m       29     2\u001b[4m4\u001b[24m\u001b[4m0\u001b[24m\u001b[4m0\u001b[24m000     3 Torphagsvägen 14              \n",
      "\u001b[90m 6\u001b[39m      125     8\u001b[4m9\u001b[24m\u001b[4m5\u001b[24m\u001b[4m0\u001b[24m000     4 Torphagsvägen 4               \n",
      "\u001b[90m 7\u001b[39m       79.2   4\u001b[4m2\u001b[24m\u001b[4m0\u001b[24m\u001b[4m0\u001b[24m000     1 Docentbacken 5                \n",
      "\u001b[90m 8\u001b[39m       64.3   3\u001b[4m3\u001b[24m\u001b[4m0\u001b[24m\u001b[4m0\u001b[24m000     1 Docentbacken 3                \n",
      "\u001b[90m 9\u001b[39m       64.3   3\u001b[4m1\u001b[24m\u001b[4m5\u001b[24m\u001b[4m0\u001b[24m000     0 Docentbacken 3                \n",
      "\u001b[90m10\u001b[39m       96     5\u001b[4m4\u001b[24m\u001b[4m0\u001b[24m\u001b[4m0\u001b[24m000     2 Åminnevägen 17                \n",
      "\u001b[90m# ℹ 148 more rows\u001b[39m\n"
     ]
    }
   ],
   "source": [
    "df <- read_csv(\"https://raw.githubusercontent.com/su-mt4007/data/refs/heads/main/Booli_sold.csv\", show_col_types = FALSE) \n",
    "\n",
    "specified_df <- df %>% select(livingArea, soldPrice, floor, location.address.streetAddress)  \n",
    "\n",
    "print(specified_df)"
   ]
  },
  {
   "cell_type": "markdown",
   "id": "ea85a25a-f190-4f96-8699-741372324b55",
   "metadata": {},
   "source": [
    "Since we want to add a new column to our table, we do so with the following code, where we calculate the ppsqm (price per square meter) by dividing the sold price of each apartment by its living area and add it to our table."
   ]
  },
  {
   "cell_type": "code",
   "execution_count": 162,
   "id": "f6253c92-356f-4fe9-9a1a-005b64b6c960",
   "metadata": {},
   "outputs": [
    {
     "name": "stdout",
     "output_type": "stream",
     "text": [
      "\u001b[90m# A tibble: 158 × 5\u001b[39m\n",
      "   livingArea soldPrice floor location.address.streetAddress  ppsqm\n",
      "        \u001b[3m\u001b[90m<dbl>\u001b[39m\u001b[23m     \u001b[3m\u001b[90m<dbl>\u001b[39m\u001b[23m \u001b[3m\u001b[90m<dbl>\u001b[39m\u001b[23m \u001b[3m\u001b[90m<chr>\u001b[39m\u001b[23m                           \u001b[3m\u001b[90m<dbl>\u001b[39m\u001b[23m\n",
      "\u001b[90m 1\u001b[39m       73     3\u001b[4m8\u001b[24m\u001b[4m2\u001b[24m\u001b[4m0\u001b[24m000    \u001b[31mNA\u001b[39m Åminnevägen 19                 \u001b[4m5\u001b[24m\u001b[4m2\u001b[24m329.\n",
      "\u001b[90m 2\u001b[39m       36     2\u001b[4m3\u001b[24m\u001b[4m5\u001b[24m\u001b[4m5\u001b[24m000     1 Docentbacken 9                 \u001b[4m6\u001b[24m\u001b[4m5\u001b[24m417.\n",
      "\u001b[90m 3\u001b[39m       81     6\u001b[4m1\u001b[24m\u001b[4m1\u001b[24m\u001b[4m0\u001b[24m000     3 Ekhagsvägen 5                  \u001b[4m7\u001b[24m\u001b[4m5\u001b[24m432.\n",
      "\u001b[90m 4\u001b[39m      107     8\u001b[4m0\u001b[24m\u001b[4m5\u001b[24m\u001b[4m0\u001b[24m000     3 Torphagsvägen 4                \u001b[4m7\u001b[24m\u001b[4m5\u001b[24m234.\n",
      "\u001b[90m 5\u001b[39m       29     2\u001b[4m4\u001b[24m\u001b[4m0\u001b[24m\u001b[4m0\u001b[24m000     3 Torphagsvägen 14               \u001b[4m8\u001b[24m\u001b[4m2\u001b[24m759.\n",
      "\u001b[90m 6\u001b[39m      125     8\u001b[4m9\u001b[24m\u001b[4m5\u001b[24m\u001b[4m0\u001b[24m000     4 Torphagsvägen 4                \u001b[4m7\u001b[24m\u001b[4m1\u001b[24m600 \n",
      "\u001b[90m 7\u001b[39m       79.2   4\u001b[4m2\u001b[24m\u001b[4m0\u001b[24m\u001b[4m0\u001b[24m000     1 Docentbacken 5                 \u001b[4m5\u001b[24m\u001b[4m3\u001b[24m030.\n",
      "\u001b[90m 8\u001b[39m       64.3   3\u001b[4m3\u001b[24m\u001b[4m0\u001b[24m\u001b[4m0\u001b[24m000     1 Docentbacken 3                 \u001b[4m5\u001b[24m\u001b[4m1\u001b[24m322.\n",
      "\u001b[90m 9\u001b[39m       64.3   3\u001b[4m1\u001b[24m\u001b[4m5\u001b[24m\u001b[4m0\u001b[24m000     0 Docentbacken 3                 \u001b[4m4\u001b[24m\u001b[4m8\u001b[24m989.\n",
      "\u001b[90m10\u001b[39m       96     5\u001b[4m4\u001b[24m\u001b[4m0\u001b[24m\u001b[4m0\u001b[24m000     2 Åminnevägen 17                 \u001b[4m5\u001b[24m\u001b[4m6\u001b[24m250 \n",
      "\u001b[90m# ℹ 148 more rows\u001b[39m\n"
     ]
    }
   ],
   "source": [
    "added_specified_df <- specified_df %>%\n",
    "  mutate(ppsqm = soldPrice / livingArea)\n",
    "\n",
    "print(added_specified_df)"
   ]
  },
  {
   "cell_type": "markdown",
   "id": "9ace5c61-e7ac-45cf-985e-d56ec594cd3e",
   "metadata": {},
   "source": [
    "To show a table with the five most expensive apartments with regard to the ppsqm, we arrange the previous table in descending order of the ppsqm and only print the top five."
   ]
  },
  {
   "cell_type": "code",
   "execution_count": 163,
   "id": "214282c3-25c8-4640-8df9-ef78803d8a1a",
   "metadata": {},
   "outputs": [
    {
     "name": "stdout",
     "output_type": "stream",
     "text": [
      "\u001b[90m# A tibble: 5 × 5\u001b[39m\n",
      "  livingArea soldPrice floor location.address.streetAddress   ppsqm\n",
      "       \u001b[3m\u001b[90m<dbl>\u001b[39m\u001b[23m     \u001b[3m\u001b[90m<dbl>\u001b[39m\u001b[23m \u001b[3m\u001b[90m<dbl>\u001b[39m\u001b[23m \u001b[3m\u001b[90m<chr>\u001b[39m\u001b[23m                            \u001b[3m\u001b[90m<dbl>\u001b[39m\u001b[23m\n",
      "\u001b[90m1\u001b[39m       24     2\u001b[4m5\u001b[24m\u001b[4m0\u001b[24m\u001b[4m0\u001b[24m000     3 Ekhagsvägen 8                  \u001b[4m1\u001b[24m\u001b[4m0\u001b[24m\u001b[4m4\u001b[24m167.\n",
      "\u001b[90m2\u001b[39m       24     2\u001b[4m4\u001b[24m\u001b[4m5\u001b[24m\u001b[4m0\u001b[24m000     3 Ekhagsvägen 8                  \u001b[4m1\u001b[24m\u001b[4m0\u001b[24m\u001b[4m2\u001b[24m083.\n",
      "\u001b[90m3\u001b[39m       23     2\u001b[4m3\u001b[24m\u001b[4m0\u001b[24m\u001b[4m0\u001b[24m000     1 Ekhagsvägen 10                 \u001b[4m1\u001b[24m\u001b[4m0\u001b[24m\u001b[4m0\u001b[24m000 \n",
      "\u001b[90m4\u001b[39m       25     2\u001b[4m2\u001b[24m\u001b[4m1\u001b[24m\u001b[4m0\u001b[24m000     0 Torphagsvägen 4                 \u001b[4m8\u001b[24m\u001b[4m8\u001b[24m400 \n",
      "\u001b[90m5\u001b[39m       26.9   2\u001b[4m3\u001b[24m\u001b[4m0\u001b[24m\u001b[4m0\u001b[24m000     2 Docentbacken 1B                 \u001b[4m8\u001b[24m\u001b[4m5\u001b[24m502.\n"
     ]
    }
   ],
   "source": [
    "five_most_expensive <- added_specified_df %>%\n",
    "  arrange(desc(ppsqm)) %>%\n",
    "  head(5)\n",
    "\n",
    "print(five_most_expensive)"
   ]
  },
  {
   "cell_type": "markdown",
   "id": "6ed16d13-8540-4db4-963e-15749d1c22d1",
   "metadata": {},
   "source": [
    "The next code results in a table consisting of the average ppsqm of the apartments in Ekhagen by using the summarise function to calculate the mean of the ppsqm column. In the code, we added na.rm = TRUE to exclude missing values."
   ]
  },
  {
   "cell_type": "code",
   "execution_count": 164,
   "id": "497bda64-2087-4fb8-92c6-08857b1a6724",
   "metadata": {},
   "outputs": [
    {
     "name": "stdout",
     "output_type": "stream",
     "text": [
      "\u001b[90m# A tibble: 1 × 1\u001b[39m\n",
      "  average_ppsqm\n",
      "          \u001b[3m\u001b[90m<dbl>\u001b[39m\u001b[23m\n",
      "\u001b[90m1\u001b[39m        \u001b[4m5\u001b[24m\u001b[4m8\u001b[24m759.\n"
     ]
    }
   ],
   "source": [
    "average_ppsqm_ekhagen <- added_specified_df %>%\n",
    "  summarise(average_ppsqm = mean(ppsqm, na.rm = TRUE))\n",
    "\n",
    "print(average_ppsqm_ekhagen)"
   ]
  },
  {
   "cell_type": "markdown",
   "id": "01e007ea-5683-4f23-aeb2-00acf4f7709e",
   "metadata": {},
   "source": [
    "The following code has been executed to highlight an aspect of the data which I find interesting: the average ppsqm of each grouped floor. In the table, we see that it is the lowest floor (-1) that has the highest price per square meter. We can also see that the lowest price per square meter was for floor 7. I find this information to be quite surprising, since it's often the top floors that go for the highest prices, compared to the bottom floors. This often occurs because top floors have a more desired view, and so on. But in this case, the lowest floor might have a better floor plan or something along those lines, which results in them becoming more desirable to buyers. The top floors might have worse conditions, like outdated interiors."
   ]
  },
  {
   "cell_type": "code",
   "execution_count": 165,
   "id": "67b3a367-3545-49bb-aea8-a50f95ca98d0",
   "metadata": {},
   "outputs": [
    {
     "name": "stdout",
     "output_type": "stream",
     "text": [
      "\u001b[90m# A tibble: 10 × 2\u001b[39m\n",
      "   floor avg_ppsqm\n",
      "   \u001b[3m\u001b[90m<dbl>\u001b[39m\u001b[23m     \u001b[3m\u001b[90m<dbl>\u001b[39m\u001b[23m\n",
      "\u001b[90m 1\u001b[39m    -\u001b[31m1\u001b[39m    \u001b[4m7\u001b[24m\u001b[4m3\u001b[24m469.\n",
      "\u001b[90m 2\u001b[39m     0    \u001b[4m6\u001b[24m\u001b[4m3\u001b[24m286.\n",
      "\u001b[90m 3\u001b[39m     1    \u001b[4m6\u001b[24m\u001b[4m1\u001b[24m047.\n",
      "\u001b[90m 4\u001b[39m     2    \u001b[4m5\u001b[24m\u001b[4m8\u001b[24m593.\n",
      "\u001b[90m 5\u001b[39m     3    \u001b[4m6\u001b[24m\u001b[4m6\u001b[24m387.\n",
      "\u001b[90m 6\u001b[39m     4    \u001b[4m5\u001b[24m\u001b[4m3\u001b[24m012.\n",
      "\u001b[90m 7\u001b[39m     5    \u001b[4m5\u001b[24m\u001b[4m2\u001b[24m014.\n",
      "\u001b[90m 8\u001b[39m     6    \u001b[4m5\u001b[24m\u001b[4m7\u001b[24m552.\n",
      "\u001b[90m 9\u001b[39m     7    \u001b[4m3\u001b[24m\u001b[4m5\u001b[24m714.\n",
      "\u001b[90m10\u001b[39m    \u001b[31mNA\u001b[39m    \u001b[4m5\u001b[24m\u001b[4m2\u001b[24m636.\n"
     ]
    }
   ],
   "source": [
    "floor_info <- added_specified_df %>%\n",
    "  group_by(floor) %>%\n",
    "  summarise(avg_ppsqm = mean(ppsqm, na.rm = TRUE))\n",
    "\n",
    "print(floor_info)"
   ]
  },
  {
   "cell_type": "markdown",
   "id": "631b51c9-e199-47d9-a61b-2840073f0739",
   "metadata": {},
   "source": [
    "For our next exercise, we want to download a new file with data for the voting in the 2018 Swedish election. The following code is a bit different from before, since we use the 'read_delim' function because the data in the file is separated by ';'"
   ]
  },
  {
   "cell_type": "code",
   "execution_count": 166,
   "id": "800d9387-664b-4589-8606-8c7b9e51c43c",
   "metadata": {},
   "outputs": [
    {
     "name": "stdout",
     "output_type": "stream",
     "text": [
      "\u001b[90m# A tibble: 290 × 45\u001b[39m\n",
      "   LÄNSKOD KOMMUNKOD LÄNSNAMN     KOMMUNNAMN     M     C     L    KD     S     V\n",
      "     \u001b[3m\u001b[90m<dbl>\u001b[39m\u001b[23m     \u001b[3m\u001b[90m<dbl>\u001b[39m\u001b[23m \u001b[3m\u001b[90m<chr>\u001b[39m\u001b[23m        \u001b[3m\u001b[90m<chr>\u001b[39m\u001b[23m      \u001b[3m\u001b[90m<dbl>\u001b[39m\u001b[23m \u001b[3m\u001b[90m<dbl>\u001b[39m\u001b[23m \u001b[3m\u001b[90m<dbl>\u001b[39m\u001b[23m \u001b[3m\u001b[90m<dbl>\u001b[39m\u001b[23m \u001b[3m\u001b[90m<dbl>\u001b[39m\u001b[23m \u001b[3m\u001b[90m<dbl>\u001b[39m\u001b[23m\n",
      "\u001b[90m 1\u001b[39m       1        14 Stockholms … Upplands …  \u001b[4m2\u001b[24m311   626   566   671  \u001b[4m2\u001b[24m697   801\n",
      "\u001b[90m 2\u001b[39m       1        15 Stockholms … Vallentuna  \u001b[4m2\u001b[24m829  \u001b[4m1\u001b[24m011   773   758  \u001b[4m1\u001b[24m891   447\n",
      "\u001b[90m 3\u001b[39m       1        17 Stockholms … Österåker   \u001b[4m2\u001b[24m968   935   748   713  \u001b[4m1\u001b[24m971   497\n",
      "\u001b[90m 4\u001b[39m       1        20 Stockholms … Värmdö      \u001b[4m2\u001b[24m749   976    64   589  \u001b[4m2\u001b[24m048   602\n",
      "\u001b[90m 5\u001b[39m       1        23 Stockholms … Järfälla    \u001b[4m2\u001b[24m396   631   604   629  \u001b[4m2\u001b[24m768   875\n",
      "\u001b[90m 6\u001b[39m       1        25 Stockholms … Ekerö       \u001b[4m2\u001b[24m812  \u001b[4m1\u001b[24m124   764   785  \u001b[4m1\u001b[24m717   476\n",
      "\u001b[90m 7\u001b[39m       1        26 Stockholms … Huddinge    \u001b[4m2\u001b[24m407   752   614   535   261   863\n",
      "\u001b[90m 8\u001b[39m       1        27 Stockholms … Botkyrka    \u001b[4m1\u001b[24m852   519   439   813  \u001b[4m3\u001b[24m234   985\n",
      "\u001b[90m 9\u001b[39m       1        28 Stockholms … Salem       \u001b[4m2\u001b[24m484   761   758   798  \u001b[4m2\u001b[24m307   598\n",
      "\u001b[90m10\u001b[39m       1        36 Stockholms … Haninge     \u001b[4m2\u001b[24m294   606   511   536  \u001b[4m2\u001b[24m729   799\n",
      "\u001b[90m# ℹ 280 more rows\u001b[39m\n",
      "\u001b[90m# ℹ 35 more variables: MP <chr>, SD <dbl>, FI <chr>, AfS <chr>, BASIP <chr>,\u001b[39m\n",
      "\u001b[90m#   CSIS <chr>, DD <chr>, DjuP <chr>, EAP <chr>, ENH <chr>, FHS <chr>,\u001b[39m\n",
      "\u001b[90m#   Gup <dbl>, INI <chr>, KLP <chr>, KrVP <chr>, LPo <chr>, MED <chr>,\u001b[39m\n",
      "\u001b[90m#   NMR <chr>, NORRP <chr>, NYREF <chr>, PP <chr>, RNP <chr>, `S-FRP` <chr>,\u001b[39m\n",
      "\u001b[90m#   SKP <chr>, SKÅ <chr>, TRP <chr>, `VL-S` <chr>, ÖVR <chr>, OGEJ <chr>,\u001b[39m\n",
      "\u001b[90m#   BLANK <chr>, OG <chr>, `RÖSTER GILTIGA` <dbl>, RÖSTANDE <dbl>, …\u001b[39m\n"
     ]
    }
   ],
   "source": [
    "df_second <- read_delim(\"https://raw.githubusercontent.com/su-mt4007/data/refs/heads/main/2018_R_per_kommun.csv\", delim = ';', show_col_types = FALSE)\n",
    "\n",
    "print(df_second)"
   ]
  },
  {
   "cell_type": "markdown",
   "id": "eb2b4fa7-8f12-4861-ac10-d9f742feba45",
   "metadata": {},
   "source": [
    "In the exercise, we want to print out a table for all the legitimate votes in Stockholm. In other words, sum up the number of legitimate votes for all municipalities in Stockholm. We accomplish this by filtering the dataset for entries that correspond to Stockholm, which should be found in the 'LÄNSNAMN' column. We then sum up all the legitimate votes by looking at the 'RÖSTER GILTIGA' column. "
   ]
  },
  {
   "cell_type": "code",
   "execution_count": 167,
   "id": "3d9a3c6e-1189-4420-a6bf-c2bad94850f3",
   "metadata": {},
   "outputs": [
    {
     "name": "stdout",
     "output_type": "stream",
     "text": [
      "\u001b[90m# A tibble: 1 × 1\u001b[39m\n",
      "  total_legitimate_votes\n",
      "                   \u001b[3m\u001b[90m<dbl>\u001b[39m\u001b[23m\n",
      "\u001b[90m1\u001b[39m                1\u001b[4m4\u001b[24m\u001b[4m2\u001b[24m\u001b[4m6\u001b[24m237\n"
     ]
    }
   ],
   "source": [
    "stockholm_votes <- df_second %>%\n",
    "  filter(grepl(\"Stockholm\", LÄNSNAMN, ignore.case = TRUE)) %>%\n",
    "  summarise(total_legitimate_votes = sum(`RÖSTER GILTIGA`, na.rm = TRUE))\n",
    "\n",
    "print(stockholm_votes)"
   ]
  },
  {
   "cell_type": "markdown",
   "id": "51615798-dedf-4e82-98b5-d7865af15de2",
   "metadata": {},
   "source": [
    "The code below is made to calculate the percentage of legitimate votes the Social Democratic Party (S) gathered in each municipality in the election. The code therefore divides the party's votes by the legitimate votes and multiplies it by 100. It then arranges the percentages in descending order and only prints the highest percentage."
   ]
  },
  {
   "cell_type": "code",
   "execution_count": 168,
   "id": "43e31678-8096-40ac-9a9c-22ead35375a4",
   "metadata": {},
   "outputs": [
    {
     "name": "stdout",
     "output_type": "stream",
     "text": [
      "\u001b[90m# A tibble: 1 × 46\u001b[39m\n",
      "  LÄNSKOD KOMMUNKOD LÄNSNAMN      KOMMUNNAMN     M     C     L    KD     S     V\n",
      "    \u001b[3m\u001b[90m<dbl>\u001b[39m\u001b[23m     \u001b[3m\u001b[90m<dbl>\u001b[39m\u001b[23m \u001b[3m\u001b[90m<chr>\u001b[39m\u001b[23m         \u001b[3m\u001b[90m<chr>\u001b[39m\u001b[23m      \u001b[3m\u001b[90m<dbl>\u001b[39m\u001b[23m \u001b[3m\u001b[90m<dbl>\u001b[39m\u001b[23m \u001b[3m\u001b[90m<dbl>\u001b[39m\u001b[23m \u001b[3m\u001b[90m<dbl>\u001b[39m\u001b[23m \u001b[3m\u001b[90m<dbl>\u001b[39m\u001b[23m \u001b[3m\u001b[90m<dbl>\u001b[39m\u001b[23m\n",
      "\u001b[90m1\u001b[39m      24        25 Västerbotten… Dorotea      616  \u001b[4m1\u001b[24m488    36   488  \u001b[4m4\u001b[24m378  \u001b[4m1\u001b[24m064\n",
      "\u001b[90m# ℹ 36 more variables: MP <chr>, SD <dbl>, FI <chr>, AfS <chr>, BASIP <chr>,\u001b[39m\n",
      "\u001b[90m#   CSIS <chr>, DD <chr>, DjuP <chr>, EAP <chr>, ENH <chr>, FHS <chr>,\u001b[39m\n",
      "\u001b[90m#   Gup <dbl>, INI <chr>, KLP <chr>, KrVP <chr>, LPo <chr>, MED <chr>,\u001b[39m\n",
      "\u001b[90m#   NMR <chr>, NORRP <chr>, NYREF <chr>, PP <chr>, RNP <chr>, `S-FRP` <chr>,\u001b[39m\n",
      "\u001b[90m#   SKP <chr>, SKÅ <chr>, TRP <chr>, `VL-S` <chr>, ÖVR <chr>, OGEJ <chr>,\u001b[39m\n",
      "\u001b[90m#   BLANK <chr>, OG <chr>, `RÖSTER GILTIGA` <dbl>, RÖSTANDE <dbl>,\u001b[39m\n",
      "\u001b[90m#   RÖSTBERÄTTIGADE <dbl>, VALDELTAGANDE <dbl>, s_percentage <dbl>\u001b[39m\n"
     ]
    }
   ],
   "source": [
    "s_top_municipality_votes <- df_second %>%\n",
    "  mutate(s_percentage = (`S` / `RÖSTER GILTIGA`) * 100) %>%\n",
    "  arrange(desc(s_percentage)) %>%\n",
    "  head(1)  \n",
    "\n",
    "print(s_top_municipality_votes)"
   ]
  },
  {
   "cell_type": "markdown",
   "id": "f1af166c-1161-4d38-a280-3e1635fce4bb",
   "metadata": {},
   "source": [
    "The following code arranges the municipalities by the number of voter participants in descending order. It also uses the select and head functions to only show the top three municipality names and the corresponding number of voter participants."
   ]
  },
  {
   "cell_type": "code",
   "execution_count": 155,
   "id": "f7ce3139-5ed8-4ff2-bf09-0b9ea7bce0b5",
   "metadata": {},
   "outputs": [
    {
     "name": "stdout",
     "output_type": "stream",
     "text": [
      "\u001b[90m# A tibble: 3 × 2\u001b[39m\n",
      "  KOMMUNNAMN VALDELTAGANDE\n",
      "  \u001b[3m\u001b[90m<chr>\u001b[39m\u001b[23m              \u001b[3m\u001b[90m<dbl>\u001b[39m\u001b[23m\n",
      "\u001b[90m1\u001b[39m Lomma               \u001b[4m9\u001b[24m386\n",
      "\u001b[90m2\u001b[39m Habo                \u001b[4m9\u001b[24m335\n",
      "\u001b[90m3\u001b[39m Vellinge            \u001b[4m9\u001b[24m313\n"
     ]
    }
   ],
   "source": [
    "top_three_municipality_votes <- df_second %>%\n",
    "  arrange(desc(`VALDELTAGANDE`)) %>%\n",
    "  select(KOMMUNNAMN, VALDELTAGANDE) %>%\n",
    "  head(3) \n",
    "\n",
    "print(top_three_municipality_votes)"
   ]
  },
  {
   "cell_type": "markdown",
   "id": "d0c8bcc6-469b-4bcf-87d1-1f16be45b0a0",
   "metadata": {},
   "source": [
    "In this code we download a new file which contains data about stroke cases and information about the individuals it pertains."
   ]
  },
  {
   "cell_type": "code",
   "execution_count": 169,
   "id": "01e8a0ea-b65a-460e-bda4-234798353c68",
   "metadata": {},
   "outputs": [
    {
     "name": "stdout",
     "output_type": "stream",
     "text": [
      "\u001b[90m# A tibble: 5,110 × 12\u001b[39m\n",
      "      id gender   age hypertension heart_disease ever_married work_type    \n",
      "   \u001b[3m\u001b[90m<dbl>\u001b[39m\u001b[23m \u001b[3m\u001b[90m<chr>\u001b[39m\u001b[23m  \u001b[3m\u001b[90m<dbl>\u001b[39m\u001b[23m        \u001b[3m\u001b[90m<dbl>\u001b[39m\u001b[23m         \u001b[3m\u001b[90m<dbl>\u001b[39m\u001b[23m \u001b[3m\u001b[90m<chr>\u001b[39m\u001b[23m        \u001b[3m\u001b[90m<chr>\u001b[39m\u001b[23m        \n",
      "\u001b[90m 1\u001b[39m  \u001b[4m9\u001b[24m046 Male      67            0             1 Yes          Private      \n",
      "\u001b[90m 2\u001b[39m \u001b[4m5\u001b[24m\u001b[4m1\u001b[24m676 Female    61            0             0 Yes          Self-employed\n",
      "\u001b[90m 3\u001b[39m \u001b[4m3\u001b[24m\u001b[4m1\u001b[24m112 Male      80            0             1 Yes          Private      \n",
      "\u001b[90m 4\u001b[39m \u001b[4m6\u001b[24m\u001b[4m0\u001b[24m182 Female    49            0             0 Yes          Private      \n",
      "\u001b[90m 5\u001b[39m  \u001b[4m1\u001b[24m665 Female    79            1             0 Yes          Self-employed\n",
      "\u001b[90m 6\u001b[39m \u001b[4m5\u001b[24m\u001b[4m6\u001b[24m669 Male      81            0             0 Yes          Private      \n",
      "\u001b[90m 7\u001b[39m \u001b[4m5\u001b[24m\u001b[4m3\u001b[24m882 Male      74            1             1 Yes          Private      \n",
      "\u001b[90m 8\u001b[39m \u001b[4m1\u001b[24m\u001b[4m0\u001b[24m434 Female    69            0             0 No           Private      \n",
      "\u001b[90m 9\u001b[39m \u001b[4m2\u001b[24m\u001b[4m7\u001b[24m419 Female    59            0             0 Yes          Private      \n",
      "\u001b[90m10\u001b[39m \u001b[4m6\u001b[24m\u001b[4m0\u001b[24m491 Female    78            0             0 Yes          Private      \n",
      "\u001b[90m# ℹ 5,100 more rows\u001b[39m\n",
      "\u001b[90m# ℹ 5 more variables: Residence_type <chr>, avg_glucose_level <dbl>, bmi <chr>,\u001b[39m\n",
      "\u001b[90m#   smoking_status <chr>, stroke <dbl>\u001b[39m\n"
     ]
    }
   ],
   "source": [
    "df_third <- read_csv(\"https://raw.githubusercontent.com/su-mt4007/data/refs/heads/main/stroke-data.csv\", show_col_types = FALSE)\n",
    "\n",
    "print(df_third)"
   ]
  },
  {
   "cell_type": "markdown",
   "id": "07597c8c-c817-4818-a8b6-764c40e9fb2d",
   "metadata": {},
   "source": [
    "For the last exercise, we visualized the data to be able to form a conclusion to the following question: 'Is there a correlation between smoking and stroke occurrences?' In our code, we used the ggplot function to visualize the relationship between smoking status and stroke status. The aes(x = smoking_status, fill = as.factor(stroke)) argument sets smoking status on the x-axis and fills the bars based on stroke status (0 or 1). The geom_bar(position = \"dodge\") function separates the bars for better comparison, showing stroke and no-stroke individuals side by side. The labs() function labels the axes and the legend: 'Smoking Status' for the x-axis, 'Count' for the y-axis, and 'Stroke Status' for the color legend. Lastly, we applied theme_minimal() for a clean design."
   ]
  },
  {
   "cell_type": "code",
   "execution_count": 170,
   "id": "e5235a08-1770-4f04-acea-8ddae5c97651",
   "metadata": {},
   "outputs": [
    {
     "data": {
      "image/png": "[encoded data removed]",
      "text/plain": [
       "plot without title"
      ]
     },
     "metadata": {
      "image/png": {
       "height": 420,
       "width": 420
      }
     },
     "output_type": "display_data"
    }
   ],
   "source": [
    "ggplot(df_third, aes(x = smoking_status, fill = as.factor(stroke))) +\n",
    "  geom_bar(position = \"dodge\") +\n",
    "  scale_fill_manual(values = c(\"purple\", \"red\")) +  # Custom colors\n",
    "  labs(title = \"Stroke Status by Smoking Status\",\n",
    "       x = \"Smoking Status\",\n",
    "       y = \"Count\",\n",
    "       fill = \"Stroke Status\") +\n",
    "  theme_minimal()"
   ]
  },
  {
   "cell_type": "markdown",
   "id": "9a894be6-dd34-4c6f-bb91-7e53713590ef",
   "metadata": {},
   "source": [
    "From the plot, we can see that for all smoking categories, the number of people who have not had a stroke (the purple bars) is much higher than the number who have had a stroke (the red bars). In the visualized data, we can see that people in the 'Never Smoked' group have the largest proportion of individuals who have not had a stroke. This could suggest that smoking might be a factor contributing to the risk of having a stroke. However, the numbers are still relatively low overall, which could suggest that stroke occurrence is influenced by various factors, not just smoking.\n",
    "\n",
    "So the conclusion from this is that smoking could be a contributing factor to strokes, but the data shows that even those who regularly smoke or occasionally smoke do not necessarily have a much higher chance of having a stroke."
   ]
  }
 ],
 "metadata": {
  "kernelspec": {
   "display_name": "R",
   "language": "R",
   "name": "ir"
  },
  "language_info": {
   "codemirror_mode": "r",
   "file_extension": ".r",
   "mimetype": "text/x-r-source",
   "name": "R",
   "pygments_lexer": "r",
   "version": "4.4.1"
  }
 },
 "nbformat": 4,
 "nbformat_minor": 5
}
