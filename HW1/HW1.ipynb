{
 "cells": [
  {
   "cell_type": "markdown",
   "id": "6684b769-d23b-4b22-9ecb-e11092e8a922",
   "metadata": {},
   "source": [
    "# Homework 1\n",
    "\n",
    "### A brief description of myself:\n",
    "My name is Olivia, and I’m in my second year of the university's program in Mathematics and Data Science. I consider myself to be quite introverted, and I tend to be more focused on my own goals in life. One of my main objectives is to complete my studies, which will allow me to become independent and start my career. Although I like to plan, I sometimes struggle with sticking to those plans, but I always strive to stay on track and reach my goals.\n",
    "\n",
    "### A brief description of my previous experience with Data Science:\n",
    "I have a growing interest in programming, although I’m still quite new to it. I have previously used R and Python in my courses at university, but I still consider myself a beginner. I believe that coding is an important skill for the future, and I am committed to deepening my knowledge in this field. Despite my early stage, I am putting in the effort to learn and improve.\n"
   ]
  },
  {
   "cell_type": "code",
   "execution_count": null,
   "id": "051bdbfd-ff8b-4668-9aad-d582781fc9e3",
   "metadata": {},
   "outputs": [],
   "source": []
  }
 ],
 "metadata": {
  "kernelspec": {
   "display_name": "R",
   "language": "R",
   "name": "ir"
  },
  "language_info": {
   "codemirror_mode": "r",
   "file_extension": ".r",
   "mimetype": "text/x-r-source",
   "name": "R",
   "pygments_lexer": "r",
   "version": "4.4.1"
  }
 },
 "nbformat": 4,
 "nbformat_minor": 5
}
