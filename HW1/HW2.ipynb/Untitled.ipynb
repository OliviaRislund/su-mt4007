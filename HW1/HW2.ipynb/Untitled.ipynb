{
 "cells": [
  {
   "cell_type": "markdown",
   "id": "ec538ae8-134e-4082-9532-c3455e635121",
   "metadata": {},
   "source": [
    "#Homework 2"
   ]
  },
  {
   "cell_type": "markdown",
   "id": "bb422d0c-c0c2-4e38-b61c-a86733a5af63",
   "metadata": {},
   "source": [
    "The following code show which packages are used and which cvs files have been downloaded. The second dataset have been loaded using the \"read_csv2\" since this file uses semicolons (;) as the separators and commas (,) as deciaml notation. The \"show_col_types = FALSE\" have been used for a cleaner outlook."
   ]
  },
  {
   "cell_type": "code",
   "execution_count": 73,
   "id": "2f0212fd-421e-4a1a-bf08-2ac9a1ef4f9a",
   "metadata": {},
   "outputs": [],
   "source": [
    "library(readr)\n",
    "library(dplyr)\n",
    "library(ggplot2)\n",
    "library(stringr)\n",
    "df <- read_csv(\"https://raw.githubusercontent.com/su-mt4007/data/refs/heads/main/Booli_sold.csv\", show_col_types = FALSE) \n",
    "df_second <- suppressMessages(read_csv2(\"https://raw.githubusercontent.com/su-mt4007/data/refs/heads/main/2018_R_per_kommun.csv\"))\n",
    "df_third <- read_csv(\"https://raw.githubusercontent.com/su-mt4007/data/refs/heads/main/stroke-data.csv\", show_col_types = FALSE)"
   ]
  },
  {
   "cell_type": "markdown",
   "id": "7fb0c4fb-4e92-4cbd-ae8c-84342721b27f",
   "metadata": {},
   "source": [
    "In this section, we aim to calculate the price per square meter (ppsqm) for each apartment and display the five most expensive apartments based on this. To do so we first use the \"select\" function to select only the relevant columns from the file. WE then add the ppsqm to the table by using the \"mutate\" function. We have used the \"filter(!is.na(ppsqm))\" to remove any rows where the ppsqm value is missing. Then we arranged the table by a descending order and only print the top five. And the five addresses with the highest ppsqm are \"Ekhagsvägen 8\", \"Ekhagsvägen 8\", \"Ekhagsvägen 10\", \"Torphagsvägen 4\", \"Docentbacken 1B\"."
   ]
  },
  {
   "cell_type": "code",
   "execution_count": 59,
   "id": "8607405f-c5aa-46b1-9b5a-33a976e6ab91",
   "metadata": {},
   "outputs": [
    {
     "data": {
      "text/html": [
       "<table class=\"dataframe\">\n",
       "<caption>A tibble: 5 × 5</caption>\n",
       "<thead>\n",
       "\t<tr><th scope=col>livingArea</th><th scope=col>soldPrice</th><th scope=col>floor</th><th scope=col>location.address.streetAddress</th><th scope=col>ppsqm</th></tr>\n",
       "\t<tr><th scope=col>&lt;dbl&gt;</th><th scope=col>&lt;dbl&gt;</th><th scope=col>&lt;dbl&gt;</th><th scope=col>&lt;chr&gt;</th><th scope=col>&lt;dbl&gt;</th></tr>\n",
       "</thead>\n",
       "<tbody>\n",
       "\t<tr><td>24.0</td><td>2500000</td><td>3</td><td>Ekhagsvägen 8  </td><td>104166.67</td></tr>\n",
       "\t<tr><td>24.0</td><td>2450000</td><td>3</td><td>Ekhagsvägen 8  </td><td>102083.33</td></tr>\n",
       "\t<tr><td>23.0</td><td>2300000</td><td>1</td><td>Ekhagsvägen 10 </td><td>100000.00</td></tr>\n",
       "\t<tr><td>25.0</td><td>2210000</td><td>0</td><td>Torphagsvägen 4</td><td> 88400.00</td></tr>\n",
       "\t<tr><td>26.9</td><td>2300000</td><td>2</td><td>Docentbacken 1B</td><td> 85501.86</td></tr>\n",
       "</tbody>\n",
       "</table>\n"
      ],
      "text/latex": [
       "A tibble: 5 × 5\n",
       "\\begin{tabular}{lllll}\n",
       " livingArea & soldPrice & floor & location.address.streetAddress & ppsqm\\\\\n",
       " <dbl> & <dbl> & <dbl> & <chr> & <dbl>\\\\\n",
       "\\hline\n",
       "\t 24.0 & 2500000 & 3 & Ekhagsvägen 8   & 104166.67\\\\\n",
       "\t 24.0 & 2450000 & 3 & Ekhagsvägen 8   & 102083.33\\\\\n",
       "\t 23.0 & 2300000 & 1 & Ekhagsvägen 10  & 100000.00\\\\\n",
       "\t 25.0 & 2210000 & 0 & Torphagsvägen 4 &  88400.00\\\\\n",
       "\t 26.9 & 2300000 & 2 & Docentbacken 1B &  85501.86\\\\\n",
       "\\end{tabular}\n"
      ],
      "text/markdown": [
       "\n",
       "A tibble: 5 × 5\n",
       "\n",
       "| livingArea &lt;dbl&gt; | soldPrice &lt;dbl&gt; | floor &lt;dbl&gt; | location.address.streetAddress &lt;chr&gt; | ppsqm &lt;dbl&gt; |\n",
       "|---|---|---|---|---|\n",
       "| 24.0 | 2500000 | 3 | Ekhagsvägen 8   | 104166.67 |\n",
       "| 24.0 | 2450000 | 3 | Ekhagsvägen 8   | 102083.33 |\n",
       "| 23.0 | 2300000 | 1 | Ekhagsvägen 10  | 100000.00 |\n",
       "| 25.0 | 2210000 | 0 | Torphagsvägen 4 |  88400.00 |\n",
       "| 26.9 | 2300000 | 2 | Docentbacken 1B |  85501.86 |\n",
       "\n"
      ],
      "text/plain": [
       "  livingArea soldPrice floor location.address.streetAddress ppsqm    \n",
       "1 24.0       2500000   3     Ekhagsvägen 8                  104166.67\n",
       "2 24.0       2450000   3     Ekhagsvägen 8                  102083.33\n",
       "3 23.0       2300000   1     Ekhagsvägen 10                 100000.00\n",
       "4 25.0       2210000   0     Torphagsvägen 4                 88400.00\n",
       "5 26.9       2300000   2     Docentbacken 1B                 85501.86"
      ]
     },
     "metadata": {},
     "output_type": "display_data"
    }
   ],
   "source": [
    "specified_df <- df %>% \n",
    "  select(livingArea, soldPrice, floor, location.address.streetAddress) %>%  \n",
    "  mutate(ppsqm = soldPrice / livingArea) %>%  \n",
    "  filter(!is.na(ppsqm))  \n",
    "\n",
    "top_five_specified_df <- specified_df %>% \n",
    "  arrange(desc(ppsqm)) %>%  \n",
    "  head(5)  \n",
    "\n",
    "top_five_specified_df\n"
   ]
  },
  {
   "cell_type": "markdown",
   "id": "fdb4ad1f-31f6-4f6e-9d22-fbaebaa5e643",
   "metadata": {},
   "source": [
    "Since we want to know the average ppsqm of the apartments in Ekhagen we have used the \"mean\" function, which gave use the rounded number 58759."
   ]
  },
  {
   "cell_type": "code",
   "execution_count": 60,
   "id": "1a3ad8c9-e70d-4a97-882b-3f391105b205",
   "metadata": {},
   "outputs": [
    {
     "data": {
      "text/html": [
       "58759.3827600817"
      ],
      "text/latex": [
       "58759.3827600817"
      ],
      "text/markdown": [
       "58759.3827600817"
      ],
      "text/plain": [
       "[1] 58759.38"
      ]
     },
     "metadata": {},
     "output_type": "display_data"
    }
   ],
   "source": [
    "mean(specified_df$ppsqm)"
   ]
  },
  {
   "cell_type": "markdown",
   "id": "840e5c28-605e-417f-8972-efee63f99bcf",
   "metadata": {},
   "source": [
    "The following code has been executed to highlight an aspect of the data which I find interesting: the average ppsqm of each grouped floor. In the table, we see that it is the lowest floor (-1) that has the highest price per square meter. We can also see that the lowest price per square meter was for floor 7. I find this information to be quite surprising, since it's often the top floors that go for the highest prices, compared to the bottom floors. This often occurs because top floors have a more desired view, and so on. But in this case, the lowest floor might have a better floor plan or something along those lines, which results in them becoming more desirable to buyers. The top floors might have worse conditions, like outdated interiors."
   ]
  },
  {
   "cell_type": "code",
   "execution_count": 61,
   "id": "bbf3f2dd-2a6c-4759-8def-45a3fe3cded2",
   "metadata": {},
   "outputs": [
    {
     "data": {
      "text/html": [
       "<table class=\"dataframe\">\n",
       "<caption>A tibble: 10 × 2</caption>\n",
       "<thead>\n",
       "\t<tr><th scope=col>floor</th><th scope=col>avg_ppsqm</th></tr>\n",
       "\t<tr><th scope=col>&lt;dbl&gt;</th><th scope=col>&lt;dbl&gt;</th></tr>\n",
       "</thead>\n",
       "<tbody>\n",
       "\t<tr><td>-1</td><td>73469.39</td></tr>\n",
       "\t<tr><td> 0</td><td>63285.87</td></tr>\n",
       "\t<tr><td> 1</td><td>61046.92</td></tr>\n",
       "\t<tr><td> 2</td><td>58593.43</td></tr>\n",
       "\t<tr><td> 3</td><td>66387.27</td></tr>\n",
       "\t<tr><td> 4</td><td>53011.96</td></tr>\n",
       "\t<tr><td> 5</td><td>52014.41</td></tr>\n",
       "\t<tr><td> 6</td><td>57552.25</td></tr>\n",
       "\t<tr><td> 7</td><td>35714.29</td></tr>\n",
       "\t<tr><td>NA</td><td>52636.22</td></tr>\n",
       "</tbody>\n",
       "</table>\n"
      ],
      "text/latex": [
       "A tibble: 10 × 2\n",
       "\\begin{tabular}{ll}\n",
       " floor & avg\\_ppsqm\\\\\n",
       " <dbl> & <dbl>\\\\\n",
       "\\hline\n",
       "\t -1 & 73469.39\\\\\n",
       "\t  0 & 63285.87\\\\\n",
       "\t  1 & 61046.92\\\\\n",
       "\t  2 & 58593.43\\\\\n",
       "\t  3 & 66387.27\\\\\n",
       "\t  4 & 53011.96\\\\\n",
       "\t  5 & 52014.41\\\\\n",
       "\t  6 & 57552.25\\\\\n",
       "\t  7 & 35714.29\\\\\n",
       "\t NA & 52636.22\\\\\n",
       "\\end{tabular}\n"
      ],
      "text/markdown": [
       "\n",
       "A tibble: 10 × 2\n",
       "\n",
       "| floor &lt;dbl&gt; | avg_ppsqm &lt;dbl&gt; |\n",
       "|---|---|\n",
       "| -1 | 73469.39 |\n",
       "|  0 | 63285.87 |\n",
       "|  1 | 61046.92 |\n",
       "|  2 | 58593.43 |\n",
       "|  3 | 66387.27 |\n",
       "|  4 | 53011.96 |\n",
       "|  5 | 52014.41 |\n",
       "|  6 | 57552.25 |\n",
       "|  7 | 35714.29 |\n",
       "| NA | 52636.22 |\n",
       "\n"
      ],
      "text/plain": [
       "   floor avg_ppsqm\n",
       "1  -1    73469.39 \n",
       "2   0    63285.87 \n",
       "3   1    61046.92 \n",
       "4   2    58593.43 \n",
       "5   3    66387.27 \n",
       "6   4    53011.96 \n",
       "7   5    52014.41 \n",
       "8   6    57552.25 \n",
       "9   7    35714.29 \n",
       "10 NA    52636.22 "
      ]
     },
     "metadata": {},
     "output_type": "display_data"
    }
   ],
   "source": [
    "floor_info_df <- specified_df %>%\n",
    "  group_by(floor) %>%\n",
    "  summarise(avg_ppsqm = mean(ppsqm, na.rm = TRUE))\n",
    "floor_info_df"
   ]
  },
  {
   "cell_type": "markdown",
   "id": "21189e94-5fd2-40a3-a033-500f67d9c245",
   "metadata": {},
   "source": [
    "In this section, we are interested in calculating the total number of legitimate votes from the municipality of Stockholm. We have used the \"filter\" fucntion along with the \"str_detect\" function to only include the rows where the region name contains the word \"Stockholm\". After that we have summarised the total legitimate votes by summarizing the values in valid votes column. To ignore any missing values (NA) we used the \"na.rm = TRUE\". And this gave use the total number of legitimate votes to be 1426237."
   ]
  },
  {
   "cell_type": "code",
   "execution_count": 62,
   "id": "33361801-1090-47bc-a4cd-4e44cab00efb",
   "metadata": {},
   "outputs": [
    {
     "data": {
      "text/html": [
       "<table class=\"dataframe\">\n",
       "<caption>A tibble: 1 × 1</caption>\n",
       "<thead>\n",
       "\t<tr><th scope=col>total_legitimate_votes</th></tr>\n",
       "\t<tr><th scope=col>&lt;dbl&gt;</th></tr>\n",
       "</thead>\n",
       "<tbody>\n",
       "\t<tr><td>1426237</td></tr>\n",
       "</tbody>\n",
       "</table>\n"
      ],
      "text/latex": [
       "A tibble: 1 × 1\n",
       "\\begin{tabular}{l}\n",
       " total\\_legitimate\\_votes\\\\\n",
       " <dbl>\\\\\n",
       "\\hline\n",
       "\t 1426237\\\\\n",
       "\\end{tabular}\n"
      ],
      "text/markdown": [
       "\n",
       "A tibble: 1 × 1\n",
       "\n",
       "| total_legitimate_votes &lt;dbl&gt; |\n",
       "|---|\n",
       "| 1426237 |\n",
       "\n"
      ],
      "text/plain": [
       "  total_legitimate_votes\n",
       "1 1426237               "
      ]
     },
     "metadata": {},
     "output_type": "display_data"
    }
   ],
   "source": [
    "stockholm_votes <- df_second %>%\n",
    "  filter(str_detect(LÄNSNAMN, \"Stockholm\")) %>%\n",
    "  summarise(total_legitimate_votes = sum(`RÖSTER GILTIGA`, na.rm = TRUE))\n",
    "stockholm_votes"
   ]
  },
  {
   "cell_type": "markdown",
   "id": "0a60f29b-085d-4e7f-a7e4-a6a016eb48d5",
   "metadata": {},
   "source": [
    "In this section, we aim to find the municipality with the highest percentage of votes for the political party 'S'. Therefore, we have selected the relevant columns, municipality name (\"KOMMUNAMN\") and the votes for the political party S (\"s\"). We then arranged them in a descending order and only printed out the top municilpality. We got the top municipality to be \"Munkfors\" with 52.18%."
   ]
  },
  {
   "cell_type": "code",
   "execution_count": 63,
   "id": "f9edfefd-a74e-4f25-bccc-0f57f562e384",
   "metadata": {},
   "outputs": [
    {
     "data": {
      "text/html": [
       "<table class=\"dataframe\">\n",
       "<caption>A tibble: 1 × 2</caption>\n",
       "<thead>\n",
       "\t<tr><th scope=col>KOMMUNNAMN</th><th scope=col>S</th></tr>\n",
       "\t<tr><th scope=col>&lt;chr&gt;</th><th scope=col>&lt;dbl&gt;</th></tr>\n",
       "</thead>\n",
       "<tbody>\n",
       "\t<tr><td>Munkfors</td><td>52.18</td></tr>\n",
       "</tbody>\n",
       "</table>\n"
      ],
      "text/latex": [
       "A tibble: 1 × 2\n",
       "\\begin{tabular}{ll}\n",
       " KOMMUNNAMN & S\\\\\n",
       " <chr> & <dbl>\\\\\n",
       "\\hline\n",
       "\t Munkfors & 52.18\\\\\n",
       "\\end{tabular}\n"
      ],
      "text/markdown": [
       "\n",
       "A tibble: 1 × 2\n",
       "\n",
       "| KOMMUNNAMN &lt;chr&gt; | S &lt;dbl&gt; |\n",
       "|---|---|\n",
       "| Munkfors | 52.18 |\n",
       "\n"
      ],
      "text/plain": [
       "  KOMMUNNAMN S    \n",
       "1 Munkfors   52.18"
      ]
     },
     "metadata": {},
     "output_type": "display_data"
    }
   ],
   "source": [
    "s_top_municipality_votes <- df_second %>%\n",
    "  select(KOMMUNNAMN,S) %>%\n",
    "  arrange(desc(S)) %>%  \n",
    "  head(1) \n",
    "s_top_municipality_votes"
   ]
  },
  {
   "cell_type": "markdown",
   "id": "03f3a768-9894-432a-9e57-ca3d64d6d212",
   "metadata": {},
   "source": [
    "In this section, we are identifying the top three municipalities with the highest voter turnout percentage. Based on the descending order of the voting participants (\"VALDELTAGANDE\") we have a table containing only th e top three municiplaity votes. And these are \"Lomma\", \"Habo\", and \"Vellinge\"."
   ]
  },
  {
   "cell_type": "code",
   "execution_count": 64,
   "id": "d1dea1bb-269f-4fc8-b1a1-13081918351b",
   "metadata": {},
   "outputs": [
    {
     "data": {
      "text/html": [
       "<table class=\"dataframe\">\n",
       "<caption>A tibble: 3 × 2</caption>\n",
       "<thead>\n",
       "\t<tr><th scope=col>KOMMUNNAMN</th><th scope=col>VALDELTAGANDE</th></tr>\n",
       "\t<tr><th scope=col>&lt;chr&gt;</th><th scope=col>&lt;dbl&gt;</th></tr>\n",
       "</thead>\n",
       "<tbody>\n",
       "\t<tr><td>Lomma   </td><td>93.86</td></tr>\n",
       "\t<tr><td>Habo    </td><td>93.35</td></tr>\n",
       "\t<tr><td>Vellinge</td><td>93.13</td></tr>\n",
       "</tbody>\n",
       "</table>\n"
      ],
      "text/latex": [
       "A tibble: 3 × 2\n",
       "\\begin{tabular}{ll}\n",
       " KOMMUNNAMN & VALDELTAGANDE\\\\\n",
       " <chr> & <dbl>\\\\\n",
       "\\hline\n",
       "\t Lomma    & 93.86\\\\\n",
       "\t Habo     & 93.35\\\\\n",
       "\t Vellinge & 93.13\\\\\n",
       "\\end{tabular}\n"
      ],
      "text/markdown": [
       "\n",
       "A tibble: 3 × 2\n",
       "\n",
       "| KOMMUNNAMN &lt;chr&gt; | VALDELTAGANDE &lt;dbl&gt; |\n",
       "|---|---|\n",
       "| Lomma    | 93.86 |\n",
       "| Habo     | 93.35 |\n",
       "| Vellinge | 93.13 |\n",
       "\n"
      ],
      "text/plain": [
       "  KOMMUNNAMN VALDELTAGANDE\n",
       "1 Lomma      93.86        \n",
       "2 Habo       93.35        \n",
       "3 Vellinge   93.13        "
      ]
     },
     "metadata": {},
     "output_type": "display_data"
    }
   ],
   "source": [
    "top_three_municipality_votes <- df_second %>%\n",
    "  arrange(desc(`VALDELTAGANDE`)) %>%\n",
    "  select(KOMMUNNAMN, VALDELTAGANDE) %>%\n",
    "  head(3) \n",
    "\n",
    "top_three_municipality_votes"
   ]
  },
  {
   "cell_type": "markdown",
   "id": "bf98ab67-d0b2-480b-a72e-3e6933c88e0a",
   "metadata": {},
   "source": [
    "For this analysis, we visualized the relationship between smoking status and stroke status to explore potential patterns in stroke occurrence among different smoking groups.\n",
    "\n",
    "The first plot displays the data using \"geom_bar(position = \"dodge\")\", which allows us to compare the stroke and non-stroke individuals for each smoking status category side by side. The \"fill = as.factor(stroke)\" argument fills the bars with different colors, where purple represents individuals without a stroke and red represents those who have had a stroke. The \"labs()\" function is used to add informative labels, such as \"Smoking Status\" for the x-axis, \"Count\" for the y-axis, and \"Stroke Status\" for the color legend. The \"facet_wrap(~stroke)\" function separates the plot into two facets based on the stroke status, allowing for a clearer comparison between groups. Finally, the \"theme_minimal()\" function ensures a clean and simple design, while \"theme(axis.text.x = element_text(angle = 45, hjust = 1))\" adjusts the x-axis labels to avoid overlap, making the chart more readable.\n",
    "\n",
    "In this plot, we observe that for both the smokers and non-smokers, the number of individuals without a stroke is noticeably higher than those who have had a stroke. This suggests that smoking may influence stroke risk, but it’s not the only factor contributing to stroke occurrences."
   ]
  },
  {
   "cell_type": "code",
   "execution_count": 70,
   "id": "07221639-3887-4e2b-bad1-7604ea8064d5",
   "metadata": {},
   "outputs": [
    {
     "data": {
      "image/png": "[encoded data removed]",
      "text/plain": [
       "plot without title"
      ]
     },
     "metadata": {
      "image/png": {
       "height": 420,
       "width": 420
      }
     },
     "output_type": "display_data"
    }
   ],
   "source": [
    "ggplot(df_third, aes(x = smoking_status, fill = as.factor(stroke))) +\n",
    "  geom_bar(position = \"dodge\") + \n",
    "  scale_fill_manual(values = c(\"purple\", \"red\")) + \n",
    "  labs(title = \"Stroke Status by Smoking Status\",\n",
    "       x = \"Smoking Status\",\n",
    "       y = \"Count\",\n",
    "       fill = \"Stroke Status\") +\n",
    "  theme_minimal() +\n",
    "  facet_wrap(~stroke) + \n",
    "  theme(axis.text.x = element_text(angle = 45, hjust = 1))  \n"
   ]
  },
  {
   "cell_type": "markdown",
   "id": "8ca51cd4-96e9-4c67-85aa-ec095ebd8827",
   "metadata": {},
   "source": [
    "The second plot uses geom_bar(position = \"fill\") to show the proportion of people with and without a stroke within each smoking category. This stacked bar chart allows for a better comparison of stroke prevalence within each group, with the bars scaled to represent percentages rather than raw counts. As in the first plot, the color scale differentiates between stroke and non-stroke individuals.\n",
    "\n",
    "From this visual representation, we can draw the conclusion that smoking appears to be a contributing factor to stroke risk, though the relationship is not overwhelmingly strong. While the proportion of strokes among smokers is higher compared to non-smokers, the data suggests that stroke occurrences are influenced by a variety of factors beyond smoking alone."
   ]
  },
  {
   "cell_type": "code",
   "execution_count": 69,
   "id": "946c94ed-343f-4183-9725-360c5b012c65",
   "metadata": {},
   "outputs": [
    {
     "data": {
      "image/png": "[encoded data removed]",
      "text/plain": [
       "plot without title"
      ]
     },
     "metadata": {
      "image/png": {
       "height": 420,
       "width": 420
      }
     },
     "output_type": "display_data"
    }
   ],
   "source": [
    "ggplot(df_third, aes(x = smoking_status, fill = as.factor(stroke))) +\n",
    "  geom_bar(position = \"fill\") +  \n",
    "  scale_fill_manual(values = c(\"purple\", \"red\")) + \n",
    "  labs(title = \"Proportion of Stroke Status by Smoking Status\",\n",
    "       x = \"Smoking Status\",\n",
    "       y = \"Proportion\",\n",
    "       fill = \"Stroke Status\") +\n",
    "  theme_minimal() \n"
   ]
  }
 ],
 "metadata": {
  "kernelspec": {
   "display_name": "R",
   "language": "R",
   "name": "ir"
  },
  "language_info": {
   "codemirror_mode": "r",
   "file_extension": ".r",
   "mimetype": "text/x-r-source",
   "name": "R",
   "pygments_lexer": "r",
   "version": "4.4.1"
  }
 },
 "nbformat": 4,
 "nbformat_minor": 5
}
