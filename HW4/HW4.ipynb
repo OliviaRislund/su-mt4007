{
 "cells": [
  {
   "cell_type": "markdown",
   "id": "705dc958-0759-4455-bbeb-1a1e5617fc7c",
   "metadata": {},
   "source": [
    "# Homework 4"
   ]
  },
  {
   "cell_type": "markdown",
   "id": "c29f2477-f772-4f21-afe4-870e574163c0",
   "metadata": {},
   "source": [
    "These following code shows which packages are used."
   ]
  },
  {
   "cell_type": "code",
   "execution_count": 25,
   "id": "ca3811f8-2373-4146-9c12-f750b505bf5d",
   "metadata": {},
   "outputs": [],
   "source": [
    "library(stringr)\n",
    "library(dplyr)\n",
    "library(tidyr)\n",
    "library(zoo)"
   ]
  },
  {
   "cell_type": "markdown",
   "id": "94e96983-62d2-4a74-85b7-2c61c7e6bb21",
   "metadata": {},
   "source": [
    "## Joining Data"
   ]
  },
  {
   "cell_type": "markdown",
   "id": "4b391480-67ec-4fdb-8662-1231019489fc",
   "metadata": {},
   "source": [
    "These are the dowloaded files."
   ]
  },
  {
   "cell_type": "code",
   "execution_count": 22,
   "id": "f49a8ba2-487b-4a81-adee-fb4250d5da8b",
   "metadata": {},
   "outputs": [],
   "source": [
    "df_cellphones <- read.csv(\"https://raw.githubusercontent.com/su-mt4007/data/refs/heads/main/cell_phones_total.csv\")\n",
    "df_population <- read.csv(\"https://raw.githubusercontent.com/su-mt4007/data/refs/heads/main/pop_data.csv\")\n",
    "df_country <- read.csv(\"https://raw.githubusercontent.com/su-mt4007/data/refs/heads/main/country_data.csv\")"
   ]
  },
  {
   "cell_type": "markdown",
   "id": "3b0ee12c-695e-4569-b8a0-7e7ef790b703",
   "metadata": {},
   "source": [
    "In this task, we combined cleaned cell phone and population data to analyze phones per capita. Using the convert_to_numeric function and forward fill from the previous exercise, we handled missing values and reshaped both datasets. After merging them, we created a table with the columns iso.3, year, n_cellphones, and population. The final table resembles the one from the homework but may differ slightly due to our approach to handling missing values."
   ]
  },
  {
   "cell_type": "code",
   "execution_count": 34,
   "id": "3e4f62cd-d806-44a1-930f-4742e583ba25",
   "metadata": {},
   "outputs": [
    {
     "data": {
      "text/html": [
       "<table class=\"dataframe\">\n",
       "<caption>A tibble: 6 × 4</caption>\n",
       "<thead>\n",
       "\t<tr><th scope=col>iso.3</th><th scope=col>year</th><th scope=col>n_cellphones</th><th scope=col>population</th></tr>\n",
       "\t<tr><th scope=col>&lt;chr&gt;</th><th scope=col>&lt;dbl&gt;</th><th scope=col>&lt;dbl&gt;</th><th scope=col>&lt;dbl&gt;</th></tr>\n",
       "</thead>\n",
       "<tbody>\n",
       "\t<tr><td>ABW</td><td>1960</td><td>0</td><td>54608</td></tr>\n",
       "\t<tr><td>ABW</td><td>1965</td><td>0</td><td>58782</td></tr>\n",
       "\t<tr><td>ABW</td><td>1966</td><td>0</td><td>59291</td></tr>\n",
       "\t<tr><td>ABW</td><td>1967</td><td>0</td><td>59522</td></tr>\n",
       "\t<tr><td>ABW</td><td>1968</td><td>0</td><td>59471</td></tr>\n",
       "\t<tr><td>ABW</td><td>1969</td><td>0</td><td>59330</td></tr>\n",
       "</tbody>\n",
       "</table>\n"
      ],
      "text/latex": [
       "A tibble: 6 × 4\n",
       "\\begin{tabular}{llll}\n",
       " iso.3 & year & n\\_cellphones & population\\\\\n",
       " <chr> & <dbl> & <dbl> & <dbl>\\\\\n",
       "\\hline\n",
       "\t ABW & 1960 & 0 & 54608\\\\\n",
       "\t ABW & 1965 & 0 & 58782\\\\\n",
       "\t ABW & 1966 & 0 & 59291\\\\\n",
       "\t ABW & 1967 & 0 & 59522\\\\\n",
       "\t ABW & 1968 & 0 & 59471\\\\\n",
       "\t ABW & 1969 & 0 & 59330\\\\\n",
       "\\end{tabular}\n"
      ],
      "text/markdown": [
       "\n",
       "A tibble: 6 × 4\n",
       "\n",
       "| iso.3 &lt;chr&gt; | year &lt;dbl&gt; | n_cellphones &lt;dbl&gt; | population &lt;dbl&gt; |\n",
       "|---|---|---|---|\n",
       "| ABW | 1960 | 0 | 54608 |\n",
       "| ABW | 1965 | 0 | 58782 |\n",
       "| ABW | 1966 | 0 | 59291 |\n",
       "| ABW | 1967 | 0 | 59522 |\n",
       "| ABW | 1968 | 0 | 59471 |\n",
       "| ABW | 1969 | 0 | 59330 |\n",
       "\n"
      ],
      "text/plain": [
       "  iso.3 year n_cellphones population\n",
       "1 ABW   1960 0            54608     \n",
       "2 ABW   1965 0            58782     \n",
       "3 ABW   1966 0            59291     \n",
       "4 ABW   1967 0            59522     \n",
       "5 ABW   1968 0            59471     \n",
       "6 ABW   1969 0            59330     "
      ]
     },
     "metadata": {},
     "output_type": "display_data"
    }
   ],
   "source": [
    "convert_to_numeric <- function(value) {\n",
    "  if (is.character(value)) {\n",
    "    value <- trimws(value)\n",
    "    multipliers <- c(k = 1e3, M = 1e6, B = 1e9)\n",
    "    for (suffix in names(multipliers)) {\n",
    "      if (grepl(suffix, value)) {\n",
    "        return(as.numeric(gsub(suffix, \"\", value)) * multipliers[suffix])\n",
    "      }\n",
    "    }\n",
    "    return(as.numeric(value))\n",
    "  }\n",
    "  return(value)\n",
    "}\n",
    "#Converting values with suffixes like k, M, B into numeric\n",
    "\n",
    "\n",
    "df_cellphones[, -1] <- lapply(df_cellphones[, -1], function(x) sapply(x, convert_to_numeric))\n",
    "\n",
    "\n",
    "df_cellphones[] <- lapply(df_cellphones, function(x) na.locf(x, na.rm = FALSE))  \n",
    "df_cellphones[is.na(df_cellphones)] <- 0\n",
    "#Forward fill\n",
    "#Replace any remaining NAs with 0\n",
    "\n",
    "df_cellphones_clean <- df_cellphones %>%\n",
    "  pivot_longer(cols = starts_with(\"X\"), names_to = \"year\", values_to = \"n_cellphones\") %>%\n",
    "  mutate(year = as.numeric(gsub(\"X\", \"\", year)))\n",
    "#Reshaping df_cellphones into a long format and cleaning up the year column\n",
    "\n",
    "\n",
    "df_population[] <- lapply(df_population, function(x) na.locf(x, na.rm = FALSE)) \n",
    "df_population[is.na(df_population)] <- 0  \n",
    "#Forward fill population data\n",
    "#Replace any remaining NAs with 0\n",
    "\n",
    "\n",
    "df_population_clean <- df_population %>%\n",
    "  pivot_longer(cols = starts_with(\"X\"), names_to = \"year\", values_to = \"population\") %>%\n",
    "  mutate(year = as.numeric(gsub(\"X\", \"\", year)))\n",
    "#Reshaping the df_population to a long format and cleaning up the year column\n",
    "\n",
    "                          \n",
    "df_population_clean <- df_population_clean %>%\n",
    "  rename(iso_3 = iso.3)  \n",
    "#Rename iso.3 to iso_3 for consistency\n",
    "\n",
    "\n",
    "df_combined <- df_cellphones_clean %>%\n",
    "  left_join(df_population_clean, by = c(\"iso.3\" = \"iso_3\", \"year\" = \"year\"))\n",
    "\n",
    "\n",
    "df_combined <- df_combined %>%\n",
    "  mutate(phones_per_capita = n_cellphones / population)\n",
    "#For later exercise\n",
    "\n",
    "\n",
    "final_table <- df_combined %>%\n",
    "  select(iso.3, year, n_cellphones, population,)\n",
    "#Relevant columns selected\n",
    "\n",
    "\n",
    "head(final_table)"
   ]
  },
  {
   "cell_type": "code",
   "execution_count": 26,
   "id": "7251a23b-0d79-488a-ac30-261be9fc52e7",
   "metadata": {},
   "outputs": [
    {
     "data": {
      "text/html": [
       "<style>\n",
       ".list-inline {list-style: none; margin:0; padding: 0}\n",
       ".list-inline>li {display: inline-block}\n",
       ".list-inline>li:not(:last-child)::after {content: \"\\00b7\"; padding: 0 .5ex}\n",
       "</style>\n",
       "<ol class=list-inline><li>'name'</li><li>'alpha.2'</li><li>'alpha.3'</li><li>'country.code'</li><li>'iso_3166.2'</li><li>'region'</li><li>'sub.region'</li><li>'intermediate.region'</li><li>'region.code'</li><li>'sub.region.code'</li><li>'intermediate.region.code'</li></ol>\n"
      ],
      "text/latex": [
       "\\begin{enumerate*}\n",
       "\\item 'name'\n",
       "\\item 'alpha.2'\n",
       "\\item 'alpha.3'\n",
       "\\item 'country.code'\n",
       "\\item 'iso\\_3166.2'\n",
       "\\item 'region'\n",
       "\\item 'sub.region'\n",
       "\\item 'intermediate.region'\n",
       "\\item 'region.code'\n",
       "\\item 'sub.region.code'\n",
       "\\item 'intermediate.region.code'\n",
       "\\end{enumerate*}\n"
      ],
      "text/markdown": [
       "1. 'name'\n",
       "2. 'alpha.2'\n",
       "3. 'alpha.3'\n",
       "4. 'country.code'\n",
       "5. 'iso_3166.2'\n",
       "6. 'region'\n",
       "7. 'sub.region'\n",
       "8. 'intermediate.region'\n",
       "9. 'region.code'\n",
       "10. 'sub.region.code'\n",
       "11. 'intermediate.region.code'\n",
       "\n",
       "\n"
      ],
      "text/plain": [
       " [1] \"name\"                     \"alpha.2\"                 \n",
       " [3] \"alpha.3\"                  \"country.code\"            \n",
       " [5] \"iso_3166.2\"               \"region\"                  \n",
       " [7] \"sub.region\"               \"intermediate.region\"     \n",
       " [9] \"region.code\"              \"sub.region.code\"         \n",
       "[11] \"intermediate.region.code\""
      ]
     },
     "metadata": {},
     "output_type": "display_data"
    },
    {
     "data": {
      "text/html": [
       "<style>\n",
       ".list-inline {list-style: none; margin:0; padding: 0}\n",
       ".list-inline>li {display: inline-block}\n",
       ".list-inline>li:not(:last-child)::after {content: \"\\00b7\"; padding: 0 .5ex}\n",
       "</style>\n",
       "<ol class=list-inline><li>'iso.3'</li><li>'X1960'</li><li>'X1965'</li><li>'X1966'</li><li>'X1967'</li><li>'X1968'</li><li>'X1969'</li><li>'X1970'</li><li>'X1971'</li><li>'X1972'</li><li>'X1973'</li><li>'X1974'</li><li>'X1975'</li><li>'X1976'</li><li>'X1977'</li><li>'X1978'</li><li>'X1979'</li><li>'X1980'</li><li>'X1981'</li><li>'X1982'</li><li>'X1983'</li><li>'X1984'</li><li>'X1985'</li><li>'X1986'</li><li>'X1987'</li><li>'X1988'</li><li>'X1989'</li><li>'X1990'</li><li>'X1991'</li><li>'X1992'</li><li>'X1993'</li><li>'X1994'</li><li>'X1995'</li><li>'X1996'</li><li>'X1997'</li><li>'X1998'</li><li>'X1999'</li><li>'X2000'</li><li>'X2001'</li><li>'X2002'</li><li>'X2003'</li><li>'X2004'</li><li>'X2005'</li><li>'X2006'</li><li>'X2007'</li><li>'X2008'</li><li>'X2009'</li><li>'X2010'</li><li>'X2011'</li><li>'X2012'</li><li>'X2013'</li><li>'X2014'</li><li>'X2015'</li><li>'X2016'</li><li>'X2017'</li><li>'X2018'</li><li>'X2019'</li></ol>\n"
      ],
      "text/latex": [
       "\\begin{enumerate*}\n",
       "\\item 'iso.3'\n",
       "\\item 'X1960'\n",
       "\\item 'X1965'\n",
       "\\item 'X1966'\n",
       "\\item 'X1967'\n",
       "\\item 'X1968'\n",
       "\\item 'X1969'\n",
       "\\item 'X1970'\n",
       "\\item 'X1971'\n",
       "\\item 'X1972'\n",
       "\\item 'X1973'\n",
       "\\item 'X1974'\n",
       "\\item 'X1975'\n",
       "\\item 'X1976'\n",
       "\\item 'X1977'\n",
       "\\item 'X1978'\n",
       "\\item 'X1979'\n",
       "\\item 'X1980'\n",
       "\\item 'X1981'\n",
       "\\item 'X1982'\n",
       "\\item 'X1983'\n",
       "\\item 'X1984'\n",
       "\\item 'X1985'\n",
       "\\item 'X1986'\n",
       "\\item 'X1987'\n",
       "\\item 'X1988'\n",
       "\\item 'X1989'\n",
       "\\item 'X1990'\n",
       "\\item 'X1991'\n",
       "\\item 'X1992'\n",
       "\\item 'X1993'\n",
       "\\item 'X1994'\n",
       "\\item 'X1995'\n",
       "\\item 'X1996'\n",
       "\\item 'X1997'\n",
       "\\item 'X1998'\n",
       "\\item 'X1999'\n",
       "\\item 'X2000'\n",
       "\\item 'X2001'\n",
       "\\item 'X2002'\n",
       "\\item 'X2003'\n",
       "\\item 'X2004'\n",
       "\\item 'X2005'\n",
       "\\item 'X2006'\n",
       "\\item 'X2007'\n",
       "\\item 'X2008'\n",
       "\\item 'X2009'\n",
       "\\item 'X2010'\n",
       "\\item 'X2011'\n",
       "\\item 'X2012'\n",
       "\\item 'X2013'\n",
       "\\item 'X2014'\n",
       "\\item 'X2015'\n",
       "\\item 'X2016'\n",
       "\\item 'X2017'\n",
       "\\item 'X2018'\n",
       "\\item 'X2019'\n",
       "\\end{enumerate*}\n"
      ],
      "text/markdown": [
       "1. 'iso.3'\n",
       "2. 'X1960'\n",
       "3. 'X1965'\n",
       "4. 'X1966'\n",
       "5. 'X1967'\n",
       "6. 'X1968'\n",
       "7. 'X1969'\n",
       "8. 'X1970'\n",
       "9. 'X1971'\n",
       "10. 'X1972'\n",
       "11. 'X1973'\n",
       "12. 'X1974'\n",
       "13. 'X1975'\n",
       "14. 'X1976'\n",
       "15. 'X1977'\n",
       "16. 'X1978'\n",
       "17. 'X1979'\n",
       "18. 'X1980'\n",
       "19. 'X1981'\n",
       "20. 'X1982'\n",
       "21. 'X1983'\n",
       "22. 'X1984'\n",
       "23. 'X1985'\n",
       "24. 'X1986'\n",
       "25. 'X1987'\n",
       "26. 'X1988'\n",
       "27. 'X1989'\n",
       "28. 'X1990'\n",
       "29. 'X1991'\n",
       "30. 'X1992'\n",
       "31. 'X1993'\n",
       "32. 'X1994'\n",
       "33. 'X1995'\n",
       "34. 'X1996'\n",
       "35. 'X1997'\n",
       "36. 'X1998'\n",
       "37. 'X1999'\n",
       "38. 'X2000'\n",
       "39. 'X2001'\n",
       "40. 'X2002'\n",
       "41. 'X2003'\n",
       "42. 'X2004'\n",
       "43. 'X2005'\n",
       "44. 'X2006'\n",
       "45. 'X2007'\n",
       "46. 'X2008'\n",
       "47. 'X2009'\n",
       "48. 'X2010'\n",
       "49. 'X2011'\n",
       "50. 'X2012'\n",
       "51. 'X2013'\n",
       "52. 'X2014'\n",
       "53. 'X2015'\n",
       "54. 'X2016'\n",
       "55. 'X2017'\n",
       "56. 'X2018'\n",
       "57. 'X2019'\n",
       "\n",
       "\n"
      ],
      "text/plain": [
       " [1] \"iso.3\" \"X1960\" \"X1965\" \"X1966\" \"X1967\" \"X1968\" \"X1969\" \"X1970\" \"X1971\"\n",
       "[10] \"X1972\" \"X1973\" \"X1974\" \"X1975\" \"X1976\" \"X1977\" \"X1978\" \"X1979\" \"X1980\"\n",
       "[19] \"X1981\" \"X1982\" \"X1983\" \"X1984\" \"X1985\" \"X1986\" \"X1987\" \"X1988\" \"X1989\"\n",
       "[28] \"X1990\" \"X1991\" \"X1992\" \"X1993\" \"X1994\" \"X1995\" \"X1996\" \"X1997\" \"X1998\"\n",
       "[37] \"X1999\" \"X2000\" \"X2001\" \"X2002\" \"X2003\" \"X2004\" \"X2005\" \"X2006\" \"X2007\"\n",
       "[46] \"X2008\" \"X2009\" \"X2010\" \"X2011\" \"X2012\" \"X2013\" \"X2014\" \"X2015\" \"X2016\"\n",
       "[55] \"X2017\" \"X2018\" \"X2019\""
      ]
     },
     "metadata": {},
     "output_type": "display_data"
    },
    {
     "data": {
      "text/html": [
       "<style>\n",
       ".list-inline {list-style: none; margin:0; padding: 0}\n",
       ".list-inline>li {display: inline-block}\n",
       ".list-inline>li:not(:last-child)::after {content: \"\\00b7\"; padding: 0 .5ex}\n",
       "</style>\n",
       "<ol class=list-inline><li>'X'</li><li>'iso.3'</li><li>'X1960'</li><li>'X1961'</li><li>'X1962'</li><li>'X1963'</li><li>'X1964'</li><li>'X1965'</li><li>'X1966'</li><li>'X1967'</li><li>'X1968'</li><li>'X1969'</li><li>'X1970'</li><li>'X1971'</li><li>'X1972'</li><li>'X1973'</li><li>'X1974'</li><li>'X1975'</li><li>'X1976'</li><li>'X1977'</li><li>'X1978'</li><li>'X1979'</li><li>'X1980'</li><li>'X1981'</li><li>'X1982'</li><li>'X1983'</li><li>'X1984'</li><li>'X1985'</li><li>'X1986'</li><li>'X1987'</li><li>'X1988'</li><li>'X1989'</li><li>'X1990'</li><li>'X1991'</li><li>'X1992'</li><li>'X1993'</li><li>'X1994'</li><li>'X1995'</li><li>'X1996'</li><li>'X1997'</li><li>'X1998'</li><li>'X1999'</li><li>'X2000'</li><li>'X2001'</li><li>'X2002'</li><li>'X2003'</li><li>'X2004'</li><li>'X2005'</li><li>'X2006'</li><li>'X2007'</li><li>'X2008'</li><li>'X2009'</li><li>'X2010'</li><li>'X2011'</li><li>'X2012'</li><li>'X2013'</li><li>'X2014'</li><li>'X2015'</li><li>'X2016'</li><li>'X2017'</li><li>'X2018'</li><li>'X2019'</li><li>'X2020'</li></ol>\n"
      ],
      "text/latex": [
       "\\begin{enumerate*}\n",
       "\\item 'X'\n",
       "\\item 'iso.3'\n",
       "\\item 'X1960'\n",
       "\\item 'X1961'\n",
       "\\item 'X1962'\n",
       "\\item 'X1963'\n",
       "\\item 'X1964'\n",
       "\\item 'X1965'\n",
       "\\item 'X1966'\n",
       "\\item 'X1967'\n",
       "\\item 'X1968'\n",
       "\\item 'X1969'\n",
       "\\item 'X1970'\n",
       "\\item 'X1971'\n",
       "\\item 'X1972'\n",
       "\\item 'X1973'\n",
       "\\item 'X1974'\n",
       "\\item 'X1975'\n",
       "\\item 'X1976'\n",
       "\\item 'X1977'\n",
       "\\item 'X1978'\n",
       "\\item 'X1979'\n",
       "\\item 'X1980'\n",
       "\\item 'X1981'\n",
       "\\item 'X1982'\n",
       "\\item 'X1983'\n",
       "\\item 'X1984'\n",
       "\\item 'X1985'\n",
       "\\item 'X1986'\n",
       "\\item 'X1987'\n",
       "\\item 'X1988'\n",
       "\\item 'X1989'\n",
       "\\item 'X1990'\n",
       "\\item 'X1991'\n",
       "\\item 'X1992'\n",
       "\\item 'X1993'\n",
       "\\item 'X1994'\n",
       "\\item 'X1995'\n",
       "\\item 'X1996'\n",
       "\\item 'X1997'\n",
       "\\item 'X1998'\n",
       "\\item 'X1999'\n",
       "\\item 'X2000'\n",
       "\\item 'X2001'\n",
       "\\item 'X2002'\n",
       "\\item 'X2003'\n",
       "\\item 'X2004'\n",
       "\\item 'X2005'\n",
       "\\item 'X2006'\n",
       "\\item 'X2007'\n",
       "\\item 'X2008'\n",
       "\\item 'X2009'\n",
       "\\item 'X2010'\n",
       "\\item 'X2011'\n",
       "\\item 'X2012'\n",
       "\\item 'X2013'\n",
       "\\item 'X2014'\n",
       "\\item 'X2015'\n",
       "\\item 'X2016'\n",
       "\\item 'X2017'\n",
       "\\item 'X2018'\n",
       "\\item 'X2019'\n",
       "\\item 'X2020'\n",
       "\\end{enumerate*}\n"
      ],
      "text/markdown": [
       "1. 'X'\n",
       "2. 'iso.3'\n",
       "3. 'X1960'\n",
       "4. 'X1961'\n",
       "5. 'X1962'\n",
       "6. 'X1963'\n",
       "7. 'X1964'\n",
       "8. 'X1965'\n",
       "9. 'X1966'\n",
       "10. 'X1967'\n",
       "11. 'X1968'\n",
       "12. 'X1969'\n",
       "13. 'X1970'\n",
       "14. 'X1971'\n",
       "15. 'X1972'\n",
       "16. 'X1973'\n",
       "17. 'X1974'\n",
       "18. 'X1975'\n",
       "19. 'X1976'\n",
       "20. 'X1977'\n",
       "21. 'X1978'\n",
       "22. 'X1979'\n",
       "23. 'X1980'\n",
       "24. 'X1981'\n",
       "25. 'X1982'\n",
       "26. 'X1983'\n",
       "27. 'X1984'\n",
       "28. 'X1985'\n",
       "29. 'X1986'\n",
       "30. 'X1987'\n",
       "31. 'X1988'\n",
       "32. 'X1989'\n",
       "33. 'X1990'\n",
       "34. 'X1991'\n",
       "35. 'X1992'\n",
       "36. 'X1993'\n",
       "37. 'X1994'\n",
       "38. 'X1995'\n",
       "39. 'X1996'\n",
       "40. 'X1997'\n",
       "41. 'X1998'\n",
       "42. 'X1999'\n",
       "43. 'X2000'\n",
       "44. 'X2001'\n",
       "45. 'X2002'\n",
       "46. 'X2003'\n",
       "47. 'X2004'\n",
       "48. 'X2005'\n",
       "49. 'X2006'\n",
       "50. 'X2007'\n",
       "51. 'X2008'\n",
       "52. 'X2009'\n",
       "53. 'X2010'\n",
       "54. 'X2011'\n",
       "55. 'X2012'\n",
       "56. 'X2013'\n",
       "57. 'X2014'\n",
       "58. 'X2015'\n",
       "59. 'X2016'\n",
       "60. 'X2017'\n",
       "61. 'X2018'\n",
       "62. 'X2019'\n",
       "63. 'X2020'\n",
       "\n",
       "\n"
      ],
      "text/plain": [
       " [1] \"X\"     \"iso.3\" \"X1960\" \"X1961\" \"X1962\" \"X1963\" \"X1964\" \"X1965\" \"X1966\"\n",
       "[10] \"X1967\" \"X1968\" \"X1969\" \"X1970\" \"X1971\" \"X1972\" \"X1973\" \"X1974\" \"X1975\"\n",
       "[19] \"X1976\" \"X1977\" \"X1978\" \"X1979\" \"X1980\" \"X1981\" \"X1982\" \"X1983\" \"X1984\"\n",
       "[28] \"X1985\" \"X1986\" \"X1987\" \"X1988\" \"X1989\" \"X1990\" \"X1991\" \"X1992\" \"X1993\"\n",
       "[37] \"X1994\" \"X1995\" \"X1996\" \"X1997\" \"X1998\" \"X1999\" \"X2000\" \"X2001\" \"X2002\"\n",
       "[46] \"X2003\" \"X2004\" \"X2005\" \"X2006\" \"X2007\" \"X2008\" \"X2009\" \"X2010\" \"X2011\"\n",
       "[55] \"X2012\" \"X2013\" \"X2014\" \"X2015\" \"X2016\" \"X2017\" \"X2018\" \"X2019\" \"X2020\""
      ]
     },
     "metadata": {},
     "output_type": "display_data"
    }
   ],
   "source": [
    "colnames(df_country)\n",
    "colnames(df_cellphones)\n",
    "colnames(df_population)\n",
    "#Column names are checked because i did something wrong"
   ]
  },
  {
   "cell_type": "markdown",
   "id": "cef325ff-a828-49aa-b2a9-509f6093ea9a",
   "metadata": {},
   "source": [
    "For a better presentation of the table, we replaced ISO-3 codes with country names using a mapping from country_data.csv. We combined the cell phone, population, and country data into a single table, calculating phones per capita (n_cellphones/population)."
   ]
  },
  {
   "cell_type": "code",
   "execution_count": 35,
   "id": "45079d40-0b5b-41ec-ba75-f3e27fed0008",
   "metadata": {},
   "outputs": [
    {
     "ename": "ERROR",
     "evalue": "\u001b[1m\u001b[33mError\u001b[39m in `left_join()`:\u001b[22m\n\u001b[1m\u001b[22m\u001b[33m!\u001b[39m Join columns in `x` must be present in the data.\n\u001b[31m✖\u001b[39m Problem with `iso_3`.\n",
     "output_type": "error",
     "traceback": [
      "\u001b[1m\u001b[33mError\u001b[39m in `left_join()`:\u001b[22m\n\u001b[1m\u001b[22m\u001b[33m!\u001b[39m Join columns in `x` must be present in the data.\n\u001b[31m✖\u001b[39m Problem with `iso_3`.\nTraceback:\n",
      "1. left_join(., df_country, by = c(iso_3 = \"alpha.3\"))",
      "2. left_join(., df_population_clean, by = c(\"iso_3\", \"year\"))",
      "3. left_join.data.frame(., df_population_clean, by = c(\"iso_3\", \n .     \"year\"))",
      "4. join_mutate(x = x, y = y, by = by, type = \"left\", suffix = suffix, \n .     na_matches = na_matches, keep = keep, multiple = multiple, \n .     unmatched = unmatched, relationship = relationship, user_env = caller_env())",
      "5. join_cols(x_names = x_names, y_names = y_names, by = by, suffix = suffix, \n .     keep = keep, error_call = error_call)",
      "6. check_join_vars(by$x, x_names, by$condition, \"x\", error_call = error_call)",
      "7. abort(bullets, call = error_call)",
      "8. signal_abort(cnd, .file)",
      "9. signalCondition(cnd)"
     ]
    }
   ],
   "source": [
    "df_combined <- df_cellphones_clean %>%\n",
    "  left_join(df_population_clean, by = c(\"iso_3\", \"year\")) %>%\n",
    "  left_join(df_country, by = c(\"iso_3\" = \"alpha.3\")) \n"
   ]
  },
  {
   "cell_type": "markdown",
   "id": "05f0d686-3552-4d51-a9eb-e2ee94da8348",
   "metadata": {},
   "source": [
    "## SQL"
   ]
  },
  {
   "cell_type": "markdown",
   "id": "d675103b-5083-4bd2-a222-f547c37228fc",
   "metadata": {},
   "source": [
    "I couldn't access the data file from my computer so this will be fixed later."
   ]
  },
  {
   "cell_type": "markdown",
   "id": "cc72f42a-ad6a-463e-8ce7-20a86003bdbb",
   "metadata": {},
   "source": [
    "## Regex"
   ]
  },
  {
   "cell_type": "markdown",
   "id": "abdd1f1e-d02b-4f02-87d9-4f2b57a450aa",
   "metadata": {},
   "source": [
    "In the file comments.txt we will find that the data repo contains lines of text, each representing a user comment. Users sometimes include tags in their comments using the format \"#tag\"."
   ]
  },
  {
   "cell_type": "code",
   "execution_count": 12,
   "id": "34f2dcbd-6608-4421-9fe9-534e8e14a19c",
   "metadata": {},
   "outputs": [],
   "source": [
    "comments <- readLines(\"https://raw.githubusercontent.com/su-mt4007/data/refs/heads/main/comments.txt\")  \n",
    "#Lines are stored in the 'comments' variable"
   ]
  },
  {
   "cell_type": "markdown",
   "id": "c73c02fe-1947-48e0-8a42-a1b2b2f6899b",
   "metadata": {},
   "source": [
    "In the code below we created a function that uses str_extract_all to extract all hashtags starting with # from a given comment. We named this function hashtags_extraction. \n",
    "\n",
    "When we called this function on the first comment, it successfully extracted the hashtags #programming and #python."
   ]
  },
  {
   "cell_type": "code",
   "execution_count": 13,
   "id": "ce4778e8-3ab6-4cf5-b9c9-0555925bb408",
   "metadata": {},
   "outputs": [
    {
     "data": {
      "text/html": [
       "<style>\n",
       ".list-inline {list-style: none; margin:0; padding: 0}\n",
       ".list-inline>li {display: inline-block}\n",
       ".list-inline>li:not(:last-child)::after {content: \"\\00b7\"; padding: 0 .5ex}\n",
       "</style>\n",
       "<ol class=list-inline><li>'#programming'</li><li>'#tips'</li></ol>\n"
      ],
      "text/latex": [
       "\\begin{enumerate*}\n",
       "\\item '\\#programming'\n",
       "\\item '\\#tips'\n",
       "\\end{enumerate*}\n"
      ],
      "text/markdown": [
       "1. '#programming'\n",
       "2. '#tips'\n",
       "\n",
       "\n"
      ],
      "text/plain": [
       "[1] \"#programming\" \"#tips\"       "
      ]
     },
     "metadata": {},
     "output_type": "display_data"
    }
   ],
   "source": [
    "hashtags_extraction <- function(comment) {\n",
    "  str_extract_all(comment, \"#\\\\w+\")[[1]]  \n",
    "    #Extract all hashtags starting with \"#\"\n",
    "}\n",
    "\n",
    "first_comment_hashtag <- hashtags_extraction(comments[1])\n",
    "#Extracting hashtags from the first comment in the file \n",
    "\n",
    "first_comment_hashtag"
   ]
  },
  {
   "cell_type": "markdown",
   "id": "eff8dfcc-1fde-4153-8251-bb07e7d531c8",
   "metadata": {},
   "source": [
    "The following code defines a regular expression regex_python_programming that checks if both the hashtags #programming and #python appear in a comment, regardless of their order. The code also uses str_detect to check if the second comment contains both hashtags. Based on the result, it prints a message indicating whether or not both #programming and #python are mentioned in the comment.\n",
    "\n",
    "For comment number 2, the output shows that it does not contain both hashtags."
   ]
  },
  {
   "cell_type": "code",
   "execution_count": 20,
   "id": "4899aae6-56ab-4e17-81f8-49929d0d5326",
   "metadata": {},
   "outputs": [
    {
     "name": "stdout",
     "output_type": "stream",
     "text": [
      "[1] \"The comment does not mention both #programming and #python.\"\n"
     ]
    }
   ],
   "source": [
    "regex_python_programming <- \"#programming.*#python|#python.*#programming\"\n",
    "#The '|' operator is used for the or condition, wheter #programming or #python comes first does not matter\n",
    "#The '.*' allows any characters (or none) between the two hashtags\n",
    "\n",
    "matches <- str_detect(comments[2], regex_python_programming)\n",
    "#Check if it contains both hashtags in the second comment\n",
    "\n",
    "if (matches) {\n",
    "  print(\"Both #programming and #python are mentioned in the comment.\")\n",
    "} else {\n",
    "  print(\"The comment does not mention both #programming and #python.\")\n",
    "}\n",
    "#A proper message is printed depending on if both #programming' and #python are found"
   ]
  }
 ],
 "metadata": {
  "kernelspec": {
   "display_name": "R",
   "language": "R",
   "name": "ir"
  },
  "language_info": {
   "codemirror_mode": "r",
   "file_extension": ".r",
   "mimetype": "text/x-r-source",
   "name": "R",
   "pygments_lexer": "r",
   "version": "4.4.1"
  }
 },
 "nbformat": 4,
 "nbformat_minor": 5
}
