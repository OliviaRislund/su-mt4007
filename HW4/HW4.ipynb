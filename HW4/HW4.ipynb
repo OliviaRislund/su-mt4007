{
 "cells": [
  {
   "cell_type": "markdown",
   "id": "705dc958-0759-4455-bbeb-1a1e5617fc7c",
   "metadata": {},
   "source": [
    "# Homework 4"
   ]
  },
  {
   "cell_type": "markdown",
   "id": "c29f2477-f772-4f21-afe4-870e574163c0",
   "metadata": {},
   "source": [
    "The following code shows which packages are used."
   ]
  },
  {
   "cell_type": "code",
   "execution_count": 103,
   "id": "ca3811f8-2373-4146-9c12-f750b505bf5d",
   "metadata": {},
   "outputs": [],
   "source": [
    "library(stringr)\n",
    "library(dplyr)\n",
    "library(tidyr)\n",
    "library(zoo)\n",
    "library(tidyverse)\n",
    "library(DBI)\n",
    "library(RSQLite)\n",
    "library(tidyr)\n",
    "library(ggplot2)"
   ]
  },
  {
   "cell_type": "markdown",
   "id": "94e96983-62d2-4a74-85b7-2c61c7e6bb21",
   "metadata": {},
   "source": [
    "## Joining Data"
   ]
  },
  {
   "cell_type": "markdown",
   "id": "97e3f5f4-fbe7-49e1-8066-de605a92b97b",
   "metadata": {},
   "source": [
    "For this exercise, we will begin by cleaning the data as we have done in previous exercise. We handle character strings and missing values and so on. To combine the cell phone data with the population data, we need to reshape both datasets. This is done by pivotting the tables into the right format. We will show a table similar to the one provided in the exercise with these columns: \"iso-3\", \"year\", \"n_cellphones\" and \"population\". We the combine the cell phone, population and country data into a single table. We calculate the number of phones per capita as \"n_cellphones\"/\"population_size\" and provide a new table with these columns: \"year\",\t\"Macao\", \"Hong Kong\", \"United Arab Emirates\", \"Antigua and Barbuda\" and \"Seychelles\". A plot is then provided to analyse the country with highest growth rate of cell phones (per capita) in the last 10 years."
   ]
  },
  {
   "cell_type": "code",
   "execution_count": 182,
   "id": "e745c3b5-da70-4914-9231-b34a8282aa13",
   "metadata": {},
   "outputs": [
    {
     "name": "stderr",
     "output_type": "stream",
     "text": [
      "\u001b[1m\u001b[22mNew names:\n",
      "\u001b[36m•\u001b[39m `` -> `...1`\n",
      "\u001b[1mRows: \u001b[22m\u001b[34m266\u001b[39m \u001b[1mColumns: \u001b[22m\u001b[34m63\u001b[39m\n",
      "\u001b[36m──\u001b[39m \u001b[1mColumn specification\u001b[22m \u001b[36m────────────────────────────────────────────────────────────────────────────────────────────────\u001b[39m\n",
      "\u001b[1mDelimiter:\u001b[22m \",\"\n",
      "\u001b[31mchr\u001b[39m  (1): iso-3\n",
      "\u001b[32mdbl\u001b[39m (62): ...1, 1960, 1961, 1962, 1963, 1964, 1965, 1966, 1967, 1968, 1969, ...\n",
      "\n",
      "\u001b[36mℹ\u001b[39m Use `spec()` to retrieve the full column specification for this data.\n",
      "\u001b[36mℹ\u001b[39m Specify the column types or set `show_col_types = FALSE` to quiet this message.\n",
      "\u001b[1mRows: \u001b[22m\u001b[34m249\u001b[39m \u001b[1mColumns: \u001b[22m\u001b[34m11\u001b[39m\n",
      "\u001b[36m──\u001b[39m \u001b[1mColumn specification\u001b[22m \u001b[36m────────────────────────────────────────────────────────────────────────────────────────────────\u001b[39m\n",
      "\u001b[1mDelimiter:\u001b[22m \",\"\n",
      "\u001b[31mchr\u001b[39m (7): name, alpha-2, alpha-3, iso_3166-2, region, sub-region, intermediat...\n",
      "\u001b[32mdbl\u001b[39m (4): country-code, region-code, sub-region-code, intermediate-region-code\n",
      "\n",
      "\u001b[36mℹ\u001b[39m Use `spec()` to retrieve the full column specification for this data.\n",
      "\u001b[36mℹ\u001b[39m Specify the column types or set `show_col_types = FALSE` to quiet this message.\n",
      "\u001b[1mRows: \u001b[22m\u001b[34m214\u001b[39m \u001b[1mColumns: \u001b[22m\u001b[34m57\u001b[39m\n",
      "\u001b[36m──\u001b[39m \u001b[1mColumn specification\u001b[22m \u001b[36m────────────────────────────────────────────────────────────────────────────────────────────────\u001b[39m\n",
      "\u001b[1mDelimiter:\u001b[22m \",\"\n",
      "\u001b[31mchr\u001b[39m (41): iso-3, 1980, 1981, 1982, 1983, 1984, 1985, 1986, 1987, 1988, 1989,...\n",
      "\u001b[32mdbl\u001b[39m  (8): 1960, 1965, 1970, 1975, 1976, 1977, 1978, 1979\n",
      "\u001b[33mlgl\u001b[39m  (8): 1966, 1967, 1968, 1969, 1971, 1972, 1973, 1974\n",
      "\n",
      "\u001b[36mℹ\u001b[39m Use `spec()` to retrieve the full column specification for this data.\n",
      "\u001b[36mℹ\u001b[39m Specify the column types or set `show_col_types = FALSE` to quiet this message.\n"
     ]
    }
   ],
   "source": [
    "population_df <- read_csv(\"https://raw.githubusercontent.com/su-mt4007/data/refs/heads/main/pop_data.csv\")\n",
    "country_df <- read_csv(\"https://raw.githubusercontent.com/su-mt4007/data/refs/heads/main/country_data.csv\")\n",
    "cellphone_df <- read_csv(\"https://raw.githubusercontent.com/su-mt4007/data/refs/heads/main/cell_phones_total.csv\")\n"
   ]
  },
  {
   "cell_type": "code",
   "execution_count": 183,
   "id": "837f8a94-0925-4024-84a7-3bf3ef63f53e",
   "metadata": {},
   "outputs": [
    {
     "name": "stderr",
     "output_type": "stream",
     "text": [
      "\u001b[1m\u001b[22mJoining with `by = join_by(`iso-3`, year)`\n"
     ]
    },
    {
     "data": {
      "text/html": [
       "<table class=\"dataframe\">\n",
       "<caption>A grouped_df: 6 × 4</caption>\n",
       "<thead>\n",
       "\t<tr><th scope=col>iso-3</th><th scope=col>year</th><th scope=col>n_cellphones</th><th scope=col>population</th></tr>\n",
       "\t<tr><th scope=col>&lt;chr&gt;</th><th scope=col>&lt;int&gt;</th><th scope=col>&lt;dbl&gt;</th><th scope=col>&lt;dbl&gt;</th></tr>\n",
       "</thead>\n",
       "<tbody>\n",
       "\t<tr><td>ABW</td><td>1960</td><td>0</td><td>  54608</td></tr>\n",
       "\t<tr><td>AFG</td><td>1960</td><td>0</td><td>8622466</td></tr>\n",
       "\t<tr><td>AGO</td><td>1960</td><td>0</td><td>5357195</td></tr>\n",
       "\t<tr><td>ALB</td><td>1960</td><td>0</td><td>1608800</td></tr>\n",
       "\t<tr><td>AND</td><td>1960</td><td>0</td><td>   9443</td></tr>\n",
       "\t<tr><td>ARE</td><td>1960</td><td>0</td><td> 133426</td></tr>\n",
       "</tbody>\n",
       "</table>\n"
      ],
      "text/latex": [
       "A grouped\\_df: 6 × 4\n",
       "\\begin{tabular}{llll}\n",
       " iso-3 & year & n\\_cellphones & population\\\\\n",
       " <chr> & <int> & <dbl> & <dbl>\\\\\n",
       "\\hline\n",
       "\t ABW & 1960 & 0 &   54608\\\\\n",
       "\t AFG & 1960 & 0 & 8622466\\\\\n",
       "\t AGO & 1960 & 0 & 5357195\\\\\n",
       "\t ALB & 1960 & 0 & 1608800\\\\\n",
       "\t AND & 1960 & 0 &    9443\\\\\n",
       "\t ARE & 1960 & 0 &  133426\\\\\n",
       "\\end{tabular}\n"
      ],
      "text/markdown": [
       "\n",
       "A grouped_df: 6 × 4\n",
       "\n",
       "| iso-3 &lt;chr&gt; | year &lt;int&gt; | n_cellphones &lt;dbl&gt; | population &lt;dbl&gt; |\n",
       "|---|---|---|---|\n",
       "| ABW | 1960 | 0 |   54608 |\n",
       "| AFG | 1960 | 0 | 8622466 |\n",
       "| AGO | 1960 | 0 | 5357195 |\n",
       "| ALB | 1960 | 0 | 1608800 |\n",
       "| AND | 1960 | 0 |    9443 |\n",
       "| ARE | 1960 | 0 |  133426 |\n",
       "\n"
      ],
      "text/plain": [
       "  iso-3 year n_cellphones population\n",
       "1 ABW   1960 0              54608   \n",
       "2 AFG   1960 0            8622466   \n",
       "3 AGO   1960 0            5357195   \n",
       "4 ALB   1960 0            1608800   \n",
       "5 AND   1960 0               9443   \n",
       "6 ARE   1960 0             133426   "
      ]
     },
     "metadata": {},
     "output_type": "display_data"
    }
   ],
   "source": [
    "library(tidyverse)\n",
    "\n",
    "# Function to convert 'k', 'M', 'B' to numeric values\n",
    "k_to_expf <- function(x) {\n",
    "  parse_number(str_replace_all(x, c(k = \"e+03\", M = \"e+06\", B = \"e+09\")))\n",
    "}\n",
    "\n",
    "# Function to replace NA with NaN\n",
    "rplc_na_nan <- function(x) {\n",
    "  replace_na(x, NaN)\n",
    "}\n",
    "\n",
    "# Clean and transform the cellphone data\n",
    "cellphone_df <- cellphone_df %>%\n",
    "  group_by(`iso-3`) %>%\n",
    "  mutate(across(where(is.character), k_to_expf)) %>%\n",
    "  mutate(across(where(is.logical), as.numeric)) %>%\n",
    "  mutate(across(2:17, ~ replace_na(.x, 0))) %>%\n",
    "  mutate(across(where(is.numeric), rplc_na_nan)) %>%\n",
    "  pivot_longer(cols = !`iso-3`, names_to = \"year\", values_to = \"n_cellphones\") %>%\n",
    "  fill(n_cellphones, .direction = \"updown\")  # Fill missing values both up and down\n",
    "\n",
    "\n",
    "population_df<-population_df%>%pivot_longer(cols = !`iso-3`,names_to = \"year\",values_to = \"population\")%>%\n",
    "fill(population,.direction = \"updown\")\n",
    "\n",
    "\n",
    "cell_pop_df<-cellphone_df%>%\n",
    "left_join(population_df)%>%\n",
    "mutate(year=as.integer(year))%>%\n",
    "arrange(year)\n",
    "\n",
    "head(cell_pop_df)"
   ]
  },
  {
   "cell_type": "code",
   "execution_count": 184,
   "id": "f3c767c4-051e-494c-bc8c-8e29f2a0789f",
   "metadata": {},
   "outputs": [
    {
     "name": "stderr",
     "output_type": "stream",
     "text": [
      "\u001b[1m\u001b[22mJoining with `by = join_by(`iso-3`)`\n"
     ]
    }
   ],
   "source": [
    "cell_pop_df<-cell_pop_df%>%\n",
    "left_join(country_df%>%\n",
    "          select(`alpha-3`,name)%>%\n",
    "          rename(`iso-3`=`alpha-3`) )%>%\n",
    "ungroup()%>%\n",
    "select(name,year,n_cellphones,population)%>%\n",
    "mutate(phones_per_capita=n_cellphones/population)%>%\n",
    "arrange(phones_per_capita)"
   ]
  },
  {
   "cell_type": "code",
   "execution_count": 187,
   "id": "15b3ff8c-e247-40b8-a50e-e6019c94aa00",
   "metadata": {},
   "outputs": [
    {
     "data": {
      "text/html": [
       "<table class=\"dataframe\">\n",
       "<caption>A tibble: 5 × 6</caption>\n",
       "<thead>\n",
       "\t<tr><th scope=col>year</th><th scope=col>United Arab Emirates</th><th scope=col>Antigua and Barbuda</th><th scope=col>Hong Kong</th><th scope=col>Macao</th><th scope=col>Seychelles</th></tr>\n",
       "\t<tr><th scope=col>&lt;int&gt;</th><th scope=col>&lt;dbl&gt;</th><th scope=col>&lt;dbl&gt;</th><th scope=col>&lt;dbl&gt;</th><th scope=col>&lt;dbl&gt;</th><th scope=col>&lt;dbl&gt;</th></tr>\n",
       "</thead>\n",
       "<tbody>\n",
       "\t<tr><td>2015</td><td>2.007424</td><td>1.956838</td><td>2.290401</td><td>3.088231</td><td>1.584260</td></tr>\n",
       "\t<tr><td>2016</td><td>2.212521</td><td>1.987545</td><td>2.398931</td><td>3.143510</td><td>1.605459</td></tr>\n",
       "\t<tr><td>2017</td><td>2.183431</td><td>2.019337</td><td>2.488773</td><td>3.210102</td><td>1.742433</td></tr>\n",
       "\t<tr><td>2018</td><td>2.199084</td><td>2.008164</td><td>2.670209</td><td>3.348741</td><td>1.849900</td></tr>\n",
       "\t<tr><td>2019</td><td>2.127739</td><td>1.997460</td><td>2.863650</td><td>3.284849</td><td>1.987196</td></tr>\n",
       "</tbody>\n",
       "</table>\n"
      ],
      "text/latex": [
       "A tibble: 5 × 6\n",
       "\\begin{tabular}{llllll}\n",
       " year & United Arab Emirates & Antigua and Barbuda & Hong Kong & Macao & Seychelles\\\\\n",
       " <int> & <dbl> & <dbl> & <dbl> & <dbl> & <dbl>\\\\\n",
       "\\hline\n",
       "\t 2015 & 2.007424 & 1.956838 & 2.290401 & 3.088231 & 1.584260\\\\\n",
       "\t 2016 & 2.212521 & 1.987545 & 2.398931 & 3.143510 & 1.605459\\\\\n",
       "\t 2017 & 2.183431 & 2.019337 & 2.488773 & 3.210102 & 1.742433\\\\\n",
       "\t 2018 & 2.199084 & 2.008164 & 2.670209 & 3.348741 & 1.849900\\\\\n",
       "\t 2019 & 2.127739 & 1.997460 & 2.863650 & 3.284849 & 1.987196\\\\\n",
       "\\end{tabular}\n"
      ],
      "text/markdown": [
       "\n",
       "A tibble: 5 × 6\n",
       "\n",
       "| year &lt;int&gt; | United Arab Emirates &lt;dbl&gt; | Antigua and Barbuda &lt;dbl&gt; | Hong Kong &lt;dbl&gt; | Macao &lt;dbl&gt; | Seychelles &lt;dbl&gt; |\n",
       "|---|---|---|---|---|---|\n",
       "| 2015 | 2.007424 | 1.956838 | 2.290401 | 3.088231 | 1.584260 |\n",
       "| 2016 | 2.212521 | 1.987545 | 2.398931 | 3.143510 | 1.605459 |\n",
       "| 2017 | 2.183431 | 2.019337 | 2.488773 | 3.210102 | 1.742433 |\n",
       "| 2018 | 2.199084 | 2.008164 | 2.670209 | 3.348741 | 1.849900 |\n",
       "| 2019 | 2.127739 | 1.997460 | 2.863650 | 3.284849 | 1.987196 |\n",
       "\n"
      ],
      "text/plain": [
       "  year United Arab Emirates Antigua and Barbuda Hong Kong Macao    Seychelles\n",
       "1 2015 2.007424             1.956838            2.290401  3.088231 1.584260  \n",
       "2 2016 2.212521             1.987545            2.398931  3.143510 1.605459  \n",
       "3 2017 2.183431             2.019337            2.488773  3.210102 1.742433  \n",
       "4 2018 2.199084             2.008164            2.670209  3.348741 1.849900  \n",
       "5 2019 2.127739             1.997460            2.863650  3.284849 1.987196  "
      ]
     },
     "metadata": {},
     "output_type": "display_data"
    }
   ],
   "source": [
    "country_p_cap<-cell_pop_df%>%\n",
    "select(year,phones_per_capita,name)%>%\n",
    "pivot_wider(names_from=name,values_from = phones_per_capita)\n",
    "\n",
    "candidate_countries<-country_p_cap%>%pivot_longer(cols=!year,values_to=\"per_cap\",names_to = \"Country\")%>%\n",
    "filter(year==2019)%>%filter(min_rank(desc(per_cap)) <= 5)\n",
    "\n",
    "country_p_cap%>%select(year,as.character(candidate_countries$Country))%>%filter((year>=2015) & (year <=2019) )"
   ]
  },
  {
   "cell_type": "code",
   "execution_count": 186,
   "id": "0f2aad7f-f4ce-4507-b94a-217e9b4e9fce",
   "metadata": {},
   "outputs": [
    {
     "data": {
      "image/png": "[encoded data removed]",
      "text/plain": [
       "plot without title"
      ]
     },
     "metadata": {
      "image/png": {
       "height": 420,
       "width": 420
      }
     },
     "output_type": "display_data"
    }
   ],
   "source": [
    "plot_df<-cntry_p_cap%>%pivot_longer(cols=!year,values_to=\"per_cap\",names_to = \"Country\")%>%\n",
    "filter(year>=2009,Country %in% (candidate_countries$Country))\n",
    "ggplot(data=plot_df)+geom_line(mapping=aes(x=year,y=per_cap,color=Country),show.legend = TRUE)+ scale_x_continuous(breaks=seq(2009, 2019, 1))"
   ]
  },
  {
   "cell_type": "markdown",
   "id": "43539a5f-52ab-481d-b010-c3433048c950",
   "metadata": {},
   "source": [
    "As we can see from the plot Macao have had the highest growth rate in the last 10 years, from 2010 to 2019."
   ]
  },
  {
   "cell_type": "markdown",
   "id": "05f0d686-3552-4d51-a9eb-e2ee94da8348",
   "metadata": {},
   "source": [
    "## SQL"
   ]
  },
  {
   "cell_type": "markdown",
   "id": "a70758d6-c820-4c40-ab5d-499faac76c99",
   "metadata": {},
   "source": [
    "The file user_action.db in the data repo contains an SQLite database that contains a table named user_actions. In this task we will analys the table and retrieve the usernames of all users who have performed tha \"signup\" action. Then we will display a table with these columns: \"user_id\", \"username\" and \"log_count\". Then for the final table we will display a table of the users who have both logged in and signed up on the same day. The table will contain the columns \"user_id\" and \"username\"."
   ]
  },
  {
   "cell_type": "code",
   "execution_count": 39,
   "id": "8b720ed1-a24c-42d6-9db7-997d4e5b311d",
   "metadata": {},
   "outputs": [],
   "source": [
    "db_path <- \"C:\\\\Users\\\\olivi\\\\Downloads\\\\user_actions.db\"\n",
    "con <- dbConnect(RSQLite::SQLite(), dbname = db_path)\n",
    "tables <- dbListTables(con)\n"
   ]
  },
  {
   "cell_type": "code",
   "execution_count": 46,
   "id": "b8009e62-c332-4329-bc93-abe63e5c6a87",
   "metadata": {},
   "outputs": [
    {
     "data": {
      "text/html": [
       "<table class=\"dataframe\">\n",
       "<caption>A data.frame: 35 × 1</caption>\n",
       "<thead>\n",
       "\t<tr><th scope=col>username</th></tr>\n",
       "\t<tr><th scope=col>&lt;chr&gt;</th></tr>\n",
       "</thead>\n",
       "<tbody>\n",
       "\t<tr><td>user34</td></tr>\n",
       "\t<tr><td>user28</td></tr>\n",
       "\t<tr><td>user1 </td></tr>\n",
       "\t<tr><td>user24</td></tr>\n",
       "\t<tr><td>user15</td></tr>\n",
       "\t<tr><td>user20</td></tr>\n",
       "\t<tr><td>user18</td></tr>\n",
       "\t<tr><td>user25</td></tr>\n",
       "\t<tr><td>user3 </td></tr>\n",
       "\t<tr><td>user9 </td></tr>\n",
       "\t<tr><td>user27</td></tr>\n",
       "\t<tr><td>user16</td></tr>\n",
       "\t<tr><td>user17</td></tr>\n",
       "\t<tr><td>user4 </td></tr>\n",
       "\t<tr><td>user8 </td></tr>\n",
       "\t<tr><td>user13</td></tr>\n",
       "\t<tr><td>user19</td></tr>\n",
       "\t<tr><td>user31</td></tr>\n",
       "\t<tr><td>user10</td></tr>\n",
       "\t<tr><td>user23</td></tr>\n",
       "\t<tr><td>user11</td></tr>\n",
       "\t<tr><td>user33</td></tr>\n",
       "\t<tr><td>user12</td></tr>\n",
       "\t<tr><td>user29</td></tr>\n",
       "\t<tr><td>user21</td></tr>\n",
       "\t<tr><td>user6 </td></tr>\n",
       "\t<tr><td>user14</td></tr>\n",
       "\t<tr><td>user30</td></tr>\n",
       "\t<tr><td>user7 </td></tr>\n",
       "\t<tr><td>user26</td></tr>\n",
       "\t<tr><td>user22</td></tr>\n",
       "\t<tr><td>user5 </td></tr>\n",
       "\t<tr><td>user35</td></tr>\n",
       "\t<tr><td>user2 </td></tr>\n",
       "\t<tr><td>user32</td></tr>\n",
       "</tbody>\n",
       "</table>\n"
      ],
      "text/latex": [
       "A data.frame: 35 × 1\n",
       "\\begin{tabular}{l}\n",
       " username\\\\\n",
       " <chr>\\\\\n",
       "\\hline\n",
       "\t user34\\\\\n",
       "\t user28\\\\\n",
       "\t user1 \\\\\n",
       "\t user24\\\\\n",
       "\t user15\\\\\n",
       "\t user20\\\\\n",
       "\t user18\\\\\n",
       "\t user25\\\\\n",
       "\t user3 \\\\\n",
       "\t user9 \\\\\n",
       "\t user27\\\\\n",
       "\t user16\\\\\n",
       "\t user17\\\\\n",
       "\t user4 \\\\\n",
       "\t user8 \\\\\n",
       "\t user13\\\\\n",
       "\t user19\\\\\n",
       "\t user31\\\\\n",
       "\t user10\\\\\n",
       "\t user23\\\\\n",
       "\t user11\\\\\n",
       "\t user33\\\\\n",
       "\t user12\\\\\n",
       "\t user29\\\\\n",
       "\t user21\\\\\n",
       "\t user6 \\\\\n",
       "\t user14\\\\\n",
       "\t user30\\\\\n",
       "\t user7 \\\\\n",
       "\t user26\\\\\n",
       "\t user22\\\\\n",
       "\t user5 \\\\\n",
       "\t user35\\\\\n",
       "\t user2 \\\\\n",
       "\t user32\\\\\n",
       "\\end{tabular}\n"
      ],
      "text/markdown": [
       "\n",
       "A data.frame: 35 × 1\n",
       "\n",
       "| username &lt;chr&gt; |\n",
       "|---|\n",
       "| user34 |\n",
       "| user28 |\n",
       "| user1  |\n",
       "| user24 |\n",
       "| user15 |\n",
       "| user20 |\n",
       "| user18 |\n",
       "| user25 |\n",
       "| user3  |\n",
       "| user9  |\n",
       "| user27 |\n",
       "| user16 |\n",
       "| user17 |\n",
       "| user4  |\n",
       "| user8  |\n",
       "| user13 |\n",
       "| user19 |\n",
       "| user31 |\n",
       "| user10 |\n",
       "| user23 |\n",
       "| user11 |\n",
       "| user33 |\n",
       "| user12 |\n",
       "| user29 |\n",
       "| user21 |\n",
       "| user6  |\n",
       "| user14 |\n",
       "| user30 |\n",
       "| user7  |\n",
       "| user26 |\n",
       "| user22 |\n",
       "| user5  |\n",
       "| user35 |\n",
       "| user2  |\n",
       "| user32 |\n",
       "\n"
      ],
      "text/plain": [
       "   username\n",
       "1  user34  \n",
       "2  user28  \n",
       "3  user1   \n",
       "4  user24  \n",
       "5  user15  \n",
       "6  user20  \n",
       "7  user18  \n",
       "8  user25  \n",
       "9  user3   \n",
       "10 user9   \n",
       "11 user27  \n",
       "12 user16  \n",
       "13 user17  \n",
       "14 user4   \n",
       "15 user8   \n",
       "16 user13  \n",
       "17 user19  \n",
       "18 user31  \n",
       "19 user10  \n",
       "20 user23  \n",
       "21 user11  \n",
       "22 user33  \n",
       "23 user12  \n",
       "24 user29  \n",
       "25 user21  \n",
       "26 user6   \n",
       "27 user14  \n",
       "28 user30  \n",
       "29 user7   \n",
       "30 user26  \n",
       "31 user22  \n",
       "32 user5   \n",
       "33 user35  \n",
       "34 user2   \n",
       "35 user32  "
      ]
     },
     "metadata": {},
     "output_type": "display_data"
    }
   ],
   "source": [
    "query <- \"\n",
    "  SELECT DISTINCT username \n",
    "  FROM user_actions \n",
    "  WHERE action = 'signup';\n",
    "\"\n",
    "\n",
    "\n",
    "users_signup <- dbGetQuery(con, query)\n",
    "users_signup"
   ]
  },
  {
   "cell_type": "code",
   "execution_count": 45,
   "id": "5ebfedc7-fafe-4fdf-92ee-fb7ce57ea79a",
   "metadata": {},
   "outputs": [
    {
     "data": {
      "text/html": [
       "<table class=\"dataframe\">\n",
       "<caption>A data.frame: 35 × 3</caption>\n",
       "<thead>\n",
       "\t<tr><th scope=col>user_id</th><th scope=col>username</th><th scope=col>log_count</th></tr>\n",
       "\t<tr><th scope=col>&lt;int&gt;</th><th scope=col>&lt;chr&gt;</th><th scope=col>&lt;int&gt;</th></tr>\n",
       "</thead>\n",
       "<tbody>\n",
       "\t<tr><td> 1</td><td>user1 </td><td>104</td></tr>\n",
       "\t<tr><td> 2</td><td>user2 </td><td>149</td></tr>\n",
       "\t<tr><td> 3</td><td>user3 </td><td>108</td></tr>\n",
       "\t<tr><td> 4</td><td>user4 </td><td>436</td></tr>\n",
       "\t<tr><td> 5</td><td>user5 </td><td>192</td></tr>\n",
       "\t<tr><td> 6</td><td>user6 </td><td>457</td></tr>\n",
       "\t<tr><td> 7</td><td>user7 </td><td>362</td></tr>\n",
       "\t<tr><td> 8</td><td>user8 </td><td>329</td></tr>\n",
       "\t<tr><td> 9</td><td>user9 </td><td>118</td></tr>\n",
       "\t<tr><td>10</td><td>user10</td><td>170</td></tr>\n",
       "\t<tr><td>11</td><td>user11</td><td>328</td></tr>\n",
       "\t<tr><td>12</td><td>user12</td><td>209</td></tr>\n",
       "\t<tr><td>13</td><td>user13</td><td>470</td></tr>\n",
       "\t<tr><td>14</td><td>user14</td><td>320</td></tr>\n",
       "\t<tr><td>15</td><td>user15</td><td> 35</td></tr>\n",
       "\t<tr><td>16</td><td>user16</td><td>379</td></tr>\n",
       "\t<tr><td>17</td><td>user17</td><td>367</td></tr>\n",
       "\t<tr><td>18</td><td>user18</td><td>122</td></tr>\n",
       "\t<tr><td>19</td><td>user19</td><td> 58</td></tr>\n",
       "\t<tr><td>20</td><td>user20</td><td>362</td></tr>\n",
       "\t<tr><td>21</td><td>user21</td><td>323</td></tr>\n",
       "\t<tr><td>22</td><td>user22</td><td>275</td></tr>\n",
       "\t<tr><td>23</td><td>user23</td><td>309</td></tr>\n",
       "\t<tr><td>24</td><td>user24</td><td>162</td></tr>\n",
       "\t<tr><td>25</td><td>user25</td><td>136</td></tr>\n",
       "\t<tr><td>26</td><td>user26</td><td>217</td></tr>\n",
       "\t<tr><td>27</td><td>user27</td><td>211</td></tr>\n",
       "\t<tr><td>28</td><td>user28</td><td> 91</td></tr>\n",
       "\t<tr><td>29</td><td>user29</td><td> 49</td></tr>\n",
       "\t<tr><td>30</td><td>user30</td><td>165</td></tr>\n",
       "\t<tr><td>31</td><td>user31</td><td>389</td></tr>\n",
       "\t<tr><td>32</td><td>user32</td><td> 32</td></tr>\n",
       "\t<tr><td>33</td><td>user33</td><td> 32</td></tr>\n",
       "\t<tr><td>34</td><td>user34</td><td>180</td></tr>\n",
       "\t<tr><td>35</td><td>user35</td><td>394</td></tr>\n",
       "</tbody>\n",
       "</table>\n"
      ],
      "text/latex": [
       "A data.frame: 35 × 3\n",
       "\\begin{tabular}{lll}\n",
       " user\\_id & username & log\\_count\\\\\n",
       " <int> & <chr> & <int>\\\\\n",
       "\\hline\n",
       "\t  1 & user1  & 104\\\\\n",
       "\t  2 & user2  & 149\\\\\n",
       "\t  3 & user3  & 108\\\\\n",
       "\t  4 & user4  & 436\\\\\n",
       "\t  5 & user5  & 192\\\\\n",
       "\t  6 & user6  & 457\\\\\n",
       "\t  7 & user7  & 362\\\\\n",
       "\t  8 & user8  & 329\\\\\n",
       "\t  9 & user9  & 118\\\\\n",
       "\t 10 & user10 & 170\\\\\n",
       "\t 11 & user11 & 328\\\\\n",
       "\t 12 & user12 & 209\\\\\n",
       "\t 13 & user13 & 470\\\\\n",
       "\t 14 & user14 & 320\\\\\n",
       "\t 15 & user15 &  35\\\\\n",
       "\t 16 & user16 & 379\\\\\n",
       "\t 17 & user17 & 367\\\\\n",
       "\t 18 & user18 & 122\\\\\n",
       "\t 19 & user19 &  58\\\\\n",
       "\t 20 & user20 & 362\\\\\n",
       "\t 21 & user21 & 323\\\\\n",
       "\t 22 & user22 & 275\\\\\n",
       "\t 23 & user23 & 309\\\\\n",
       "\t 24 & user24 & 162\\\\\n",
       "\t 25 & user25 & 136\\\\\n",
       "\t 26 & user26 & 217\\\\\n",
       "\t 27 & user27 & 211\\\\\n",
       "\t 28 & user28 &  91\\\\\n",
       "\t 29 & user29 &  49\\\\\n",
       "\t 30 & user30 & 165\\\\\n",
       "\t 31 & user31 & 389\\\\\n",
       "\t 32 & user32 &  32\\\\\n",
       "\t 33 & user33 &  32\\\\\n",
       "\t 34 & user34 & 180\\\\\n",
       "\t 35 & user35 & 394\\\\\n",
       "\\end{tabular}\n"
      ],
      "text/markdown": [
       "\n",
       "A data.frame: 35 × 3\n",
       "\n",
       "| user_id &lt;int&gt; | username &lt;chr&gt; | log_count &lt;int&gt; |\n",
       "|---|---|---|\n",
       "|  1 | user1  | 104 |\n",
       "|  2 | user2  | 149 |\n",
       "|  3 | user3  | 108 |\n",
       "|  4 | user4  | 436 |\n",
       "|  5 | user5  | 192 |\n",
       "|  6 | user6  | 457 |\n",
       "|  7 | user7  | 362 |\n",
       "|  8 | user8  | 329 |\n",
       "|  9 | user9  | 118 |\n",
       "| 10 | user10 | 170 |\n",
       "| 11 | user11 | 328 |\n",
       "| 12 | user12 | 209 |\n",
       "| 13 | user13 | 470 |\n",
       "| 14 | user14 | 320 |\n",
       "| 15 | user15 |  35 |\n",
       "| 16 | user16 | 379 |\n",
       "| 17 | user17 | 367 |\n",
       "| 18 | user18 | 122 |\n",
       "| 19 | user19 |  58 |\n",
       "| 20 | user20 | 362 |\n",
       "| 21 | user21 | 323 |\n",
       "| 22 | user22 | 275 |\n",
       "| 23 | user23 | 309 |\n",
       "| 24 | user24 | 162 |\n",
       "| 25 | user25 | 136 |\n",
       "| 26 | user26 | 217 |\n",
       "| 27 | user27 | 211 |\n",
       "| 28 | user28 |  91 |\n",
       "| 29 | user29 |  49 |\n",
       "| 30 | user30 | 165 |\n",
       "| 31 | user31 | 389 |\n",
       "| 32 | user32 |  32 |\n",
       "| 33 | user33 |  32 |\n",
       "| 34 | user34 | 180 |\n",
       "| 35 | user35 | 394 |\n",
       "\n"
      ],
      "text/plain": [
       "   user_id username log_count\n",
       "1   1      user1    104      \n",
       "2   2      user2    149      \n",
       "3   3      user3    108      \n",
       "4   4      user4    436      \n",
       "5   5      user5    192      \n",
       "6   6      user6    457      \n",
       "7   7      user7    362      \n",
       "8   8      user8    329      \n",
       "9   9      user9    118      \n",
       "10 10      user10   170      \n",
       "11 11      user11   328      \n",
       "12 12      user12   209      \n",
       "13 13      user13   470      \n",
       "14 14      user14   320      \n",
       "15 15      user15    35      \n",
       "16 16      user16   379      \n",
       "17 17      user17   367      \n",
       "18 18      user18   122      \n",
       "19 19      user19    58      \n",
       "20 20      user20   362      \n",
       "21 21      user21   323      \n",
       "22 22      user22   275      \n",
       "23 23      user23   309      \n",
       "24 24      user24   162      \n",
       "25 25      user25   136      \n",
       "26 26      user26   217      \n",
       "27 27      user27   211      \n",
       "28 28      user28    91      \n",
       "29 29      user29    49      \n",
       "30 30      user30   165      \n",
       "31 31      user31   389      \n",
       "32 32      user32    32      \n",
       "33 33      user33    32      \n",
       "34 34      user34   180      \n",
       "35 35      user35   394      "
      ]
     },
     "metadata": {},
     "output_type": "display_data"
    }
   ],
   "source": [
    "query <- \"\n",
    "  SELECT \n",
    "    user_id, \n",
    "    username, \n",
    "    COUNT(*) AS log_count\n",
    "  FROM \n",
    "    user_actions\n",
    "  GROUP BY \n",
    "    user_id, username \n",
    "\"\n",
    "\n",
    "log_counts <- dbGetQuery(con, query)\n",
    "log_counts"
   ]
  },
  {
   "cell_type": "code",
   "execution_count": 59,
   "id": "b800f268-00ac-4d9b-bf8a-59d06073fdba",
   "metadata": {},
   "outputs": [
    {
     "data": {
      "text/html": [
       "<table class=\"dataframe\">\n",
       "<caption>A data.frame: 8 × 2</caption>\n",
       "<thead>\n",
       "\t<tr><th scope=col>user_id</th><th scope=col>username</th></tr>\n",
       "\t<tr><th scope=col>&lt;int&gt;</th><th scope=col>&lt;chr&gt;</th></tr>\n",
       "</thead>\n",
       "<tbody>\n",
       "\t<tr><td> 8</td><td>user8 </td></tr>\n",
       "\t<tr><td>12</td><td>user12</td></tr>\n",
       "\t<tr><td>30</td><td>user30</td></tr>\n",
       "\t<tr><td> 7</td><td>user7 </td></tr>\n",
       "\t<tr><td>22</td><td>user22</td></tr>\n",
       "\t<tr><td> 5</td><td>user5 </td></tr>\n",
       "\t<tr><td> 2</td><td>user2 </td></tr>\n",
       "\t<tr><td>32</td><td>user32</td></tr>\n",
       "</tbody>\n",
       "</table>\n"
      ],
      "text/latex": [
       "A data.frame: 8 × 2\n",
       "\\begin{tabular}{ll}\n",
       " user\\_id & username\\\\\n",
       " <int> & <chr>\\\\\n",
       "\\hline\n",
       "\t  8 & user8 \\\\\n",
       "\t 12 & user12\\\\\n",
       "\t 30 & user30\\\\\n",
       "\t  7 & user7 \\\\\n",
       "\t 22 & user22\\\\\n",
       "\t  5 & user5 \\\\\n",
       "\t  2 & user2 \\\\\n",
       "\t 32 & user32\\\\\n",
       "\\end{tabular}\n"
      ],
      "text/markdown": [
       "\n",
       "A data.frame: 8 × 2\n",
       "\n",
       "| user_id &lt;int&gt; | username &lt;chr&gt; |\n",
       "|---|---|\n",
       "|  8 | user8  |\n",
       "| 12 | user12 |\n",
       "| 30 | user30 |\n",
       "|  7 | user7  |\n",
       "| 22 | user22 |\n",
       "|  5 | user5  |\n",
       "|  2 | user2  |\n",
       "| 32 | user32 |\n",
       "\n"
      ],
      "text/plain": [
       "  user_id username\n",
       "1  8      user8   \n",
       "2 12      user12  \n",
       "3 30      user30  \n",
       "4  7      user7   \n",
       "5 22      user22  \n",
       "6  5      user5   \n",
       "7  2      user2   \n",
       "8 32      user32  "
      ]
     },
     "metadata": {},
     "output_type": "display_data"
    }
   ],
   "source": [
    "query <- \"\n",
    "  SELECT DISTINCT\n",
    "    a.user_id,\n",
    "    a.username\n",
    "  FROM\n",
    "    user_actions AS a\n",
    "  JOIN\n",
    "    user_actions AS b\n",
    "  ON\n",
    "    a.user_id = b.user_id\n",
    "    AND a.action = 'signup'\n",
    "    AND b.action = 'login'\n",
    "    AND DATE(a.timestamp) = DATE(b.timestamp);\n",
    "\"\n",
    "\n",
    "\n",
    "both_actions <- dbGetQuery(con, query)\n",
    "both_actions"
   ]
  },
  {
   "cell_type": "markdown",
   "id": "cc72f42a-ad6a-463e-8ce7-20a86003bdbb",
   "metadata": {},
   "source": [
    "## Regex"
   ]
  },
  {
   "cell_type": "markdown",
   "id": "abdd1f1e-d02b-4f02-87d9-4f2b57a450aa",
   "metadata": {},
   "source": [
    "In the file comments.txt we will find that the data repo contains lines of text, each representing a user comment. Users sometimes include tags in their comments using the format \"#tag\"."
   ]
  },
  {
   "cell_type": "code",
   "execution_count": 12,
   "id": "34f2dcbd-6608-4421-9fe9-534e8e14a19c",
   "metadata": {},
   "outputs": [],
   "source": [
    "comments <- readLines(\"https://raw.githubusercontent.com/su-mt4007/data/refs/heads/main/comments.txt\")  \n",
    "#Lines are stored in the 'comments' variable"
   ]
  },
  {
   "cell_type": "markdown",
   "id": "c73c02fe-1947-48e0-8a42-a1b2b2f6899b",
   "metadata": {},
   "source": [
    "In the code below we created a function that uses str_extract_all to extract all hashtags starting with # from a given comment. We named this function hashtags_extraction. \n",
    "\n",
    "When we called this function on the first comment, it successfully extracted the hashtags #programming and #python."
   ]
  },
  {
   "cell_type": "code",
   "execution_count": 13,
   "id": "ce4778e8-3ab6-4cf5-b9c9-0555925bb408",
   "metadata": {},
   "outputs": [
    {
     "data": {
      "text/html": [
       "<style>\n",
       ".list-inline {list-style: none; margin:0; padding: 0}\n",
       ".list-inline>li {display: inline-block}\n",
       ".list-inline>li:not(:last-child)::after {content: \"\\00b7\"; padding: 0 .5ex}\n",
       "</style>\n",
       "<ol class=list-inline><li>'#programming'</li><li>'#tips'</li></ol>\n"
      ],
      "text/latex": [
       "\\begin{enumerate*}\n",
       "\\item '\\#programming'\n",
       "\\item '\\#tips'\n",
       "\\end{enumerate*}\n"
      ],
      "text/markdown": [
       "1. '#programming'\n",
       "2. '#tips'\n",
       "\n",
       "\n"
      ],
      "text/plain": [
       "[1] \"#programming\" \"#tips\"       "
      ]
     },
     "metadata": {},
     "output_type": "display_data"
    }
   ],
   "source": [
    "hashtags_extraction <- function(comment) {\n",
    "  str_extract_all(comment, \"#\\\\w+\")[[1]]  \n",
    "    #Extract all hashtags starting with \"#\"\n",
    "}\n",
    "\n",
    "first_comment_hashtag <- hashtags_extraction(comments[1])\n",
    "#Extracting hashtags from the first comment in the file \n",
    "\n",
    "first_comment_hashtag"
   ]
  },
  {
   "cell_type": "markdown",
   "id": "eff8dfcc-1fde-4153-8251-bb07e7d531c8",
   "metadata": {},
   "source": [
    "The following code defines a regular expression regex_python_programming that checks if both the hashtags #programming and #python appear in a comment, regardless of their order. The code also uses str_detect to check if the second comment contains both hashtags. Based on the result, it prints a message indicating whether or not both #programming and #python are mentioned in the comment.\n",
    "\n",
    "For comment number 2, the output shows that it does not contain both hashtags."
   ]
  },
  {
   "cell_type": "code",
   "execution_count": 20,
   "id": "4899aae6-56ab-4e17-81f8-49929d0d5326",
   "metadata": {},
   "outputs": [
    {
     "name": "stdout",
     "output_type": "stream",
     "text": [
      "[1] \"The comment does not mention both #programming and #python.\"\n"
     ]
    }
   ],
   "source": [
    "regex_python_programming <- \"#programming.*#python|#python.*#programming\"\n",
    "#The '|' operator is used for the or condition, wheter #programming or #python comes first does not matter\n",
    "#The '.*' allows any characters (or none) between the two hashtags\n",
    "\n",
    "matches <- str_detect(comments[2], regex_python_programming)\n",
    "#Check if it contains both hashtags in the second comment\n",
    "\n",
    "if (matches) {\n",
    "  print(\"Both #programming and #python are mentioned in the comment.\")\n",
    "} else {\n",
    "  print(\"The comment does not mention both #programming and #python.\")\n",
    "}\n",
    "#A proper message is printed depending on if both #programming' and #python are found"
   ]
  }
 ],
 "metadata": {
  "kernelspec": {
   "display_name": "R",
   "language": "R",
   "name": "ir"
  },
  "language_info": {
   "codemirror_mode": "r",
   "file_extension": ".r",
   "mimetype": "text/x-r-source",
   "name": "R",
   "pygments_lexer": "r",
   "version": "4.4.1"
  }
 },
 "nbformat": 4,
 "nbformat_minor": 5
}
